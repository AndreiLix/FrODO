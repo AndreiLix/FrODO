{
 "cells": [
  {
   "cell_type": "markdown",
   "metadata": {},
   "source": [
    "## I think that for projectred gradients I can crank up the learning rate and keep decreasing perofrmance for both steep and flat more than I can with the long-term memoru models "
   ]
  },
  {
   "cell_type": "code",
   "execution_count": 1,
   "metadata": {},
   "outputs": [],
   "source": [
    "import pickle \n",
    "from comdo.utils import *\n",
    "import numpy as np\n",
    "import matplotlib.pyplot as plt"
   ]
  },
  {
   "cell_type": "markdown",
   "metadata": {},
   "source": [
    "### Running simulations for **flat** initial gradient"
   ]
  },
  {
   "cell_type": "code",
   "execution_count": 9,
   "metadata": {},
   "outputs": [
    {
     "name": "stderr",
     "output_type": "stream",
     "text": [
      "/home/andrei/.local/lib/python3.10/site-packages/jax/interpreters/xla.py:251: RuntimeWarning: overflow encountered in cast\n",
      "  return np.asarray(x, dtypes.canonicalize_dtype(x.dtype))\n",
      "/home/andrei/Desktop/PROJECT_ELLIS_COMDO/FOLDER_code/comdo/utils.py:454: RuntimeWarning: invalid value encountered in scalar subtract\n",
      "  consesus_term[agent_i][param_i][0] = beta_c * sum( [ (x[agent_j][param_i][0] - x[agent_i][param_i][0]) for agent_j in range(n_agents) if agent_j!= agent_i ] )\n",
      "/home/andrei/Desktop/PROJECT_ELLIS_COMDO/FOLDER_code/comdo/utils.py:470: RuntimeWarning: invalid value encountered in subtract\n",
      "  x_proj2[agent_i][param_i] = x[agent_i][param_i] - (x[agent_i][param_i] - beta_g * gradient_memory[agent_i][param_i][-1])\n"
     ]
    }
   ],
   "source": [
    "\n",
    "\n",
    "n_samples = 2\n",
    "max_iterations = 200 \n",
    "\n",
    "betas_c = [0.1]\n",
    "betas_cm = [0]\n",
    "betas_steep = [0.1]\n",
    "betas_flat = [1]\n",
    "\n",
    "dicts_preformances_projected_flat = []\n",
    "dicts_preformances_fractional_v1_flat = []\n",
    "\n",
    "for sample in range(n_samples):\n",
    "\n",
    "    lens_memory = [ int(np.random.uniform(1, 10))]\n",
    "    c = int(np.random.uniform(1, 10))\n",
    "\n",
    "    betas_gm = [betas_flat[0]/c]\n",
    "    betas_pg = [betas_flat[0]/c]\n",
    "\n",
    "\n",
    "    preformance_projected_flat = optimize(max_iterations= max_iterations, memory_profiles= [\"projected\"], lens_memory= lens_memory, betas_c= betas_c, betas_cm= betas_cm, betas_g= betas_flat, betas_pg= betas_pg )\n",
    "    dicts_preformances_projected_flat.append(preformance_projected_flat) \n",
    "\n",
    "    preformance_fractional_v1_flat = optimize(max_iterations= max_iterations, memory_profiles= [\"fractional_v1\"], lens_memory= lens_memory, betas_c= betas_c, betas_cm= betas_cm, betas_g= betas_flat, betas_gm= betas_gm )\n",
    "    dicts_preformances_fractional_v1_flat.append( preformance_fractional_v1_flat ) \n",
    "    # preformance_fractional_v1_flat = \n",
    "    # preformance_fractional_v1_flat\n",
    "    # preformance_fractional_v1_flat\n"
   ]
  },
  {
   "cell_type": "markdown",
   "metadata": {},
   "source": [
    "### Running simulations for **steep** initial gradient"
   ]
  },
  {
   "cell_type": "code",
   "execution_count": 4,
   "metadata": {},
   "outputs": [
    {
     "name": "stderr",
     "output_type": "stream",
     "text": [
      "/home/andrei/.local/lib/python3.10/site-packages/jax/interpreters/xla.py:251: RuntimeWarning: overflow encountered in cast\n",
      "  return np.asarray(x, dtypes.canonicalize_dtype(x.dtype))\n",
      "/home/andrei/Desktop/PROJECT_ELLIS_COMDO/FOLDER_code/comdo/utils.py:315: RuntimeWarning: invalid value encountered in scalar subtract\n",
      "  consesus_term[agent_i][param_i][0] = beta_c * sum( [ (x[agent_j][param_i][0] - x[agent_i][param_i][0]) for agent_j in range(n_agents) if agent_j!= agent_i ] )\n",
      "/home/andrei/Desktop/PROJECT_ELLIS_COMDO/FOLDER_code/comdo/utils.py:388: RuntimeWarning: invalid value encountered in scalar multiply\n",
      "  - beta_gm * gradient_memoryFeedback[agent_i][param_i][0]\n",
      "/home/andrei/Desktop/PROJECT_ELLIS_COMDO/FOLDER_code/comdo/utils.py:355: RuntimeWarning: invalid value encountered in scalar add\n",
      "  z_g[agent_i][param_i][0] = (1/len_memory) * sum([ memory_weights[memory_i] * gradient_memory[agent_i][param_i][memory_i] for memory_i in range(len_memory)])\n"
     ]
    }
   ],
   "source": [
    "n_samples = 2\n",
    "max_iterations = 200 \n",
    "\n",
    "betas_c = [0.1]\n",
    "betas_cm = [0]\n",
    "betas_steep = [0.1]\n",
    "betas_flat = [1]\n",
    "\n",
    "\n",
    "### Steep\n",
    "\n",
    "# Baselines\n",
    "dicts_preformance_classicHeavyBall_steep = []\n",
    "dicts_preformance_noMemory_steep = []\n",
    "# Memory profiles\n",
    "dicts_preformances_constant_steep = []\n",
    "dicts_preformances_linear_steep = []\n",
    "dicts_preformances_exponential_steep = []\n",
    "dicts_preformances_fractional_v1_steep = []\n",
    "dicts_preformances_fractional_v2_steep = []\n",
    "# Projected gradients\n",
    "dicts_preformances_projected_steep = []\n",
    "\n",
    "\n",
    "### Flat\n",
    "\n",
    "# Baselines\n",
    "dicts_preformance_classicHeavyBall_flat = []\n",
    "dicts_preformance_noMemory_flat = []\n",
    "# Memory profiles\n",
    "dicts_preformances_constant_flat = []\n",
    "dicts_preformances_linear_flat = []\n",
    "dicts_preformances_exponential_flat = []\n",
    "dicts_preformances_fractional_v1_flat = []\n",
    "dicts_preformances_fractional_v2_flat = []\n",
    "# Projected gradients\n",
    "dicts_preformances_projected_steep = []\n",
    "\n",
    "for sample in range(n_samples):\n",
    "\n",
    "    lens_memory = [ int(np.random.uniform(2, 10))]      # selecting memory length between 2-10 past iterations\n",
    "    c = int(np.random.uniform(1, 10))\n",
    "\n",
    "    betas_gm = [betas_steep[0]/c]\n",
    "    betas_pg = [betas_steep[0]/c]\n",
    "\n",
    "    \n",
    "    ### Steep\n",
    "\n",
    "    # Baselines\n",
    "    preformance_classicHeavyBall_steep = optimize(max_iterations= max_iterations, memory_profiles= [\"constant\"], lens_memory= [1], betas_c= betas_c, betas_cm= betas_cm, betas_g= betas_steep, betas_gm= betas_gm )\n",
    "    dicts_preformance_classicHeavyBall_steep.append(preformance_classicHeavyBall_steep)\n",
    "   \n",
    "    preformance_noMemory_steep = optimize(max_iterations= max_iterations, memory_profiles= [\"constant\"], lens_memory= [1], betas_c= betas_c, betas_cm= betas_cm, betas_g= betas_steep, betas_gm= [0] )\n",
    "    dicts_preformance_noMemory_steep.append(preformance_noMemory_steep)\n",
    "\n",
    "    # Memory profiles\n",
    "    preformance_constant_steep = optimize(max_iterations= max_iterations, memory_profiles= [\"constant\"], lens_memory= lens_memory, betas_c= betas_c, betas_cm= betas_cm, betas_g= betas_steep, betas_gm= betas_gm )\n",
    "    dicts_preformances_constant_steep.append( preformance_constant_steep ) \n",
    "\n",
    "    preformance_linear_steep = optimize(max_iterations= max_iterations, memory_profiles= [\"linear\"], lens_memory= lens_memory, betas_c= betas_c, betas_cm= betas_cm, betas_g= betas_steep, betas_gm= betas_gm )\n",
    "    dicts_preformances_linear_steep.append( preformance_linear_steep ) \n",
    "\n",
    "    preformance_exponential_steep = optimize(max_iterations= max_iterations, memory_profiles= [\"exponential\"], lens_memory= lens_memory, betas_c= betas_c, betas_cm= betas_cm, betas_g= betas_steep, betas_gm= betas_gm )\n",
    "    dicts_preformances_exponential_steep.append( preformance_exponential_steep ) \n",
    "\n",
    "    preformance_fractional_v1_steep = optimize(max_iterations= max_iterations, memory_profiles= [\"fractional_v1\"], lens_memory= lens_memory, betas_c= betas_c, betas_cm= betas_cm, betas_g= betas_steep, betas_gm= betas_gm )\n",
    "    dicts_preformances_fractional_v1_steep.append( preformance_fractional_v1_steep ) \n",
    "\n",
    "    preformance_fractional_v2_steep = optimize(max_iterations= max_iterations, memory_profiles= [\"fractional_v2\"], lens_memory= lens_memory, betas_c= betas_c, betas_cm= betas_cm, betas_g= betas_steep, betas_gm= betas_gm )\n",
    "    dicts_preformances_fractional_v2_steep.append( preformance_fractional_v2_steep ) \n",
    "\n",
    "    # Projected gradients\n",
    "    preformance_projected_steep = optimize(max_iterations= max_iterations, memory_profiles= [\"projected\"], lens_memory= lens_memory, betas_c= betas_c, betas_cm= betas_cm, betas_g= betas_steep, betas_pg= betas_pg )\n",
    "    dicts_preformances_projected_steep.append(preformance_projected_steep) \n",
    "\n",
    "\n",
    "    ### Flat\n",
    "\n",
    "    # Baselines\n",
    "    preformance_classicHeavyBall_flat = optimize(max_iterations= max_iterations, memory_profiles= [\"constant\"], lens_memory= [1], betas_c= betas_c, betas_cm= betas_cm, betas_g= betas_flat, betas_gm= betas_gm )\n",
    "    dicts_preformance_classicHeavyBall_flat.append(preformance_classicHeavyBall_flat)\n",
    "   \n",
    "    preformance_noMemory_flat = optimize(max_iterations= max_iterations, memory_profiles= [\"constant\"], lens_memory= [1], betas_c= betas_c, betas_cm= betas_cm, betas_g= betas_flat, betas_gm= [0] )\n",
    "    dicts_preformance_noMemory_flat.append(preformance_noMemory_flat)\n",
    "\n",
    "    # Memory profiles\n",
    "    preformance_constant_flat = optimize(max_iterations= max_iterations, memory_profiles= [\"constant\"], lens_memory= lens_memory, betas_c= betas_c, betas_cm= betas_cm, betas_g= betas_flat, betas_gm= betas_gm )\n",
    "    dicts_preformances_constant_flat.append( preformance_constant_flat ) \n",
    "\n",
    "    preformance_linear_flat = optimize(max_iterations= max_iterations, memory_profiles= [\"linear\"], lens_memory= lens_memory, betas_c= betas_c, betas_cm= betas_cm, betas_g= betas_flat, betas_gm= betas_gm )\n",
    "    dicts_preformances_linear_flat.append( preformance_linear_flat ) \n",
    "\n",
    "    preformance_exponential_flat = optimize(max_iterations= max_iterations, memory_profiles= [\"exponential\"], lens_memory= lens_memory, betas_c= betas_c, betas_cm= betas_cm, betas_g= betas_flat, betas_gm= betas_gm )\n",
    "    dicts_preformances_exponential_flat.append( preformance_exponential_flat ) \n",
    "\n",
    "    preformance_fractional_v1_flat = optimize(max_iterations= max_iterations, memory_profiles= [\"fractional_v1\"], lens_memory= lens_memory, betas_c= betas_c, betas_cm= betas_cm, betas_g= betas_flat, betas_gm= betas_gm )\n",
    "    dicts_preformances_fractional_v1_flat.append( preformance_fractional_v1_flat ) \n",
    "\n",
    "    preformance_fractional_v2_flat = optimize(max_iterations= max_iterations, memory_profiles= [\"fractional_v2\"], lens_memory= lens_memory, betas_c= betas_c, betas_cm= betas_cm, betas_g= betas_flat, betas_gm= betas_gm )\n",
    "    dicts_preformances_fractional_v2_flat.append( preformance_fractional_v2_flat ) \n",
    "\n",
    "    # Projected gradients\n",
    "    preformance_projected_flat = optimize(max_iterations= max_iterations, memory_profiles= [\"projected\"], lens_memory= lens_memory, betas_c= betas_c, betas_cm= betas_cm, betas_g= betas_flat, betas_pg= betas_pg )\n",
    "    dicts_preformances_projected_flat.append(preformance_projected_flat) "
   ]
  },
  {
   "cell_type": "code",
   "execution_count": null,
   "metadata": {},
   "outputs": [],
   "source": [
    "    # Baselines\n",
    "    preformance_classicHeavyBall_flat = optimize(max_iterations= max_iterations, memory_profiles= [\"constant\"], lens_memory= [1], betas_c= betas_c, betas_cm= betas_cm, betas_g= betas_flat, betas_gm= betas_gm )\n",
    "    dicts_preformance_classicHeavyBall_flat.append(preformance_classicHeavyBall_flat)\n",
    "   \n",
    "    preformance_noMemory_flat = optimize(max_iterations= max_iterations, memory_profiles= [\"constant\"], lens_memory= [1], betas_c= betas_c, betas_cm= betas_cm, betas_g= betas_flat, betas_gm= [0] )\n",
    "    dicts_preformance_noMemory_flat.append(preformance_classicHeavyBall_flat)\n",
    "\n",
    "    # Memory profiles\n",
    "    preformance_constant_flat = optimize(max_iterations= max_iterations, memory_profiles= [\"constant\"], lens_memory= lens_memory, betas_c= betas_c, betas_cm= betas_cm, betas_g= betas_flat, betas_gm= betas_gm )\n",
    "    dicts_preformances_constant_flat.append( preformance_constant_flat ) \n",
    "\n",
    "    preformance_linear_flat = optimize(max_iterations= max_iterations, memory_profiles= [\"linear\"], lens_memory= lens_memory, betas_c= betas_c, betas_cm= betas_cm, betas_g= betas_flat, betas_gm= betas_gm )\n",
    "    dicts_preformances_linear_flat.append( preformance_fractional_v1_flat ) \n",
    "\n",
    "    preformance_exponential_flat = optimize(max_iterations= max_iterations, memory_profiles= [\"exponential\"], lens_memory= lens_memory, betas_c= betas_c, betas_cm= betas_cm, betas_g= betas_flat, betas_gm= betas_gm )\n",
    "    dicts_preformances_exponential_flat.append( preformance_fractional_v1_flat ) \n",
    "\n",
    "    preformance_fractional_v1_flat = optimize(max_iterations= max_iterations, memory_profiles= [\"fractional_v1\"], lens_memory= lens_memory, betas_c= betas_c, betas_cm= betas_cm, betas_g= betas_flat, betas_gm= betas_gm )\n",
    "    dicts_preformances_fractional_v1_flat.append( preformance_fractional_v1_flat ) \n",
    "\n",
    "    preformance_fractional_v2_flat = optimize(max_iterations= max_iterations, memory_profiles= [\"fractional_v2\"], lens_memory= lens_memory, betas_c= betas_c, betas_cm= betas_cm, betas_g= betas_flat, betas_gm= betas_gm )\n",
    "    dicts_preformances_fractional_v2_flat.append( preformance_fractional_v2_flat ) \n",
    "\n",
    "    # Projected gradients\n",
    "    preformance_projected_flat = optimize(max_iterations= max_iterations, memory_profiles= [\"projected\"], lens_memory= lens_memory, betas_c= betas_c, betas_cm= betas_cm, betas_g= betas_flat, betas_pg= betas_pg )\n",
    "    dicts_preformances_projected_flat.append(preformance_projected_flat) "
   ]
  },
  {
   "cell_type": "code",
   "execution_count": 3,
   "metadata": {},
   "outputs": [
    {
     "data": {
      "text/plain": [
       "[{((1.0, 0.0), 'projected', 0.1, 0.1, 0.05): 5},\n",
       " {((1.0, 0.0), 'projected', 0.1, 0.1, 0.014285714285714287): 10}]"
      ]
     },
     "execution_count": 3,
     "metadata": {},
     "output_type": "execute_result"
    }
   ],
   "source": [
    "dicts_preformances_projected_steep"
   ]
  },
  {
   "cell_type": "markdown",
   "metadata": {},
   "source": [
    "## Do the following for all 12 conditions"
   ]
  },
  {
   "cell_type": "code",
   "execution_count": 22,
   "metadata": {},
   "outputs": [
    {
     "name": "stdout",
     "output_type": "stream",
     "text": [
      "[199, 199]\n"
     ]
    }
   ],
   "source": [
    "iters_preformances_projected_flat =  [ [ dicts_preformances_projected_flat[i][key] for key in dicts_preformances_projected_flat[i]][0]  for i in range(len(dicts_preformances_projected_flat)) ]  \n",
    "\n",
    "print(iters_preformances_projected_flat)"
   ]
  },
  {
   "cell_type": "code",
   "execution_count": 4,
   "metadata": {},
   "outputs": [
    {
     "data": {
      "text/plain": [
       "[dict_values([]), dict_values([])]"
      ]
     },
     "execution_count": 4,
     "metadata": {},
     "output_type": "execute_result"
    }
   ],
   "source": [
    "preformances_fractional_v1_flat"
   ]
  },
  {
   "cell_type": "code",
   "execution_count": null,
   "metadata": {},
   "outputs": [],
   "source": [
    "\n",
    "for sample in range(n_samples):\n",
    "\n",
    "    lens_memory = [ int(np.random.uniform(1, 10))]\n",
    "    c = int(np.random.uniform(1, 10))\n",
    "\n",
    "    betas_gm = [betas_steep[0]/c]\n",
    "\n",
    "\n",
    "    preformance_fractional_v1_flat = optimize(max_iterations= 200, memory_profiles= \"fractional_v1\", lens_memory= lens_memory, betas_c= betas_c, betas_cm= betas_cm, betas_g= betas_flat, betas_gm= betas_gm )\n",
    "    preformance_fractional_v1_flat = \n",
    "    preformance_fractional_v1_flat\n",
    "    preformance_fractional_v1_flat\n"
   ]
  },
  {
   "cell_type": "code",
   "execution_count": 37,
   "metadata": {},
   "outputs": [
    {
     "name": "stderr",
     "output_type": "stream",
     "text": [
      "/home/andrei/.local/lib/python3.10/site-packages/jax/interpreters/xla.py:251: RuntimeWarning: overflow encountered in cast\n",
      "  return np.asarray(x, dtypes.canonicalize_dtype(x.dtype))\n",
      "/home/andrei/Desktop/PROJECT_ELLIS_COMDO/FOLDER_code/comdo/utils.py:454: RuntimeWarning: invalid value encountered in scalar subtract\n",
      "  consesus_term[agent_i][param_i][0] = beta_c * sum( [ (x[agent_j][param_i][0] - x[agent_i][param_i][0]) for agent_j in range(n_agents) if agent_j!= agent_i ] )\n",
      "/home/andrei/Desktop/PROJECT_ELLIS_COMDO/FOLDER_code/comdo/utils.py:470: RuntimeWarning: invalid value encountered in subtract\n",
      "  x_proj2[agent_i][param_i] = x[agent_i][param_i] - (x[agent_i][param_i] - beta_g * gradient_memory[agent_i][param_i][-1])\n"
     ]
    }
   ],
   "source": [
    "max_iterations = 200\n",
    "memory_profiles= [\"projected\"]\n",
    "\n",
    "betas_c = [0.1]\n",
    "betas_g = [0.1, 1]\n",
    "betas_pg = [0.01, 0.1, 1]\n",
    "\n",
    "\n",
    "performance_dict_Proj = optimize(max_iterations= max_iterations, memory_profiles= memory_profiles, betas_c= betas_c, betas_g=betas_g, betas_pg = betas_pg)\n"
   ]
  },
  {
   "cell_type": "code",
   "execution_count": 38,
   "metadata": {},
   "outputs": [
    {
     "name": "stderr",
     "output_type": "stream",
     "text": [
      "/home/andrei/Desktop/PROJECT_ELLIS_COMDO/FOLDER_code/comdo/utils.py:315: RuntimeWarning: invalid value encountered in scalar subtract\n",
      "  consesus_term[agent_i][param_i][0] = beta_c * sum( [ (x[agent_j][param_i][0] - x[agent_i][param_i][0]) for agent_j in range(n_agents) if agent_j!= agent_i ] )\n"
     ]
    }
   ],
   "source": [
    "max_iterations = 200\n",
    "memory_profiles= [\"constant\"]\n",
    "lens_memory = [1]\n",
    "\n",
    "betas_c = [0.1]\n",
    "betas_cm = [0.01]\n",
    "betas_g = [0.1, 1]\n",
    "betas_gm = [0.01, 0.1, 1]\n",
    "\n",
    "\n",
    "performance_dict_Const = optimize(max_iterations= max_iterations, memory_profiles= memory_profiles, lens_memory= lens_memory, betas_c= betas_c, betas_cm= betas_cm, betas_g=betas_g, betas_gm= betas_gm)"
   ]
  },
  {
   "cell_type": "code",
   "execution_count": 39,
   "metadata": {},
   "outputs": [
    {
     "data": {
      "text/plain": [
       "{((1.0, 0.0), 'projected', 0.1, 0.1, 0.01): 11,\n",
       " ((1.0, 0.0), 'projected', 0.1, 1, 0.01): 199,\n",
       " ((1.0, 0.0), 'projected', 0.1, 0.1, 0.1): 5,\n",
       " ((1.0, 0.0), 'projected', 0.1, 1, 0.1): 199,\n",
       " ((1.0, 0.0), 'projected', 0.1, 0.1, 1): 199,\n",
       " ((1.0, 0.0), 'projected', 0.1, 1, 1): 199,\n",
       " ((0.0, 1.0), 'projected', 0.1, 0.1, 0.01): 199,\n",
       " ((0.0, 1.0), 'projected', 0.1, 1, 0.01): 151,\n",
       " ((0.0, 1.0), 'projected', 0.1, 0.1, 0.1): 199,\n",
       " ((0.0, 1.0), 'projected', 0.1, 1, 0.1): 199,\n",
       " ((0.0, 1.0), 'projected', 0.1, 0.1, 1): 72,\n",
       " ((0.0, 1.0), 'projected', 0.1, 1, 1): 50}"
      ]
     },
     "execution_count": 39,
     "metadata": {},
     "output_type": "execute_result"
    }
   ],
   "source": [
    "performance_dict_Proj"
   ]
  },
  {
   "cell_type": "code",
   "execution_count": 40,
   "metadata": {},
   "outputs": [
    {
     "data": {
      "text/plain": [
       "{((1.0, 0.0), 'constant', 1, 0.1, 0.01, 0.1, 0.01): 11,\n",
       " ((1.0, 0.0), 'constant', 1, 0.1, 0.01, 0.1, 0.1): 14,\n",
       " ((1.0, 0.0), 'constant', 1, 0.1, 0.01, 0.1, 1): 199,\n",
       " ((1.0, 0.0), 'constant', 1, 0.1, 0.01, 1, 0.01): 199,\n",
       " ((1.0, 0.0), 'constant', 1, 0.1, 0.01, 1, 0.1): 199,\n",
       " ((1.0, 0.0), 'constant', 1, 0.1, 0.01, 1, 1): 199,\n",
       " ((0.0, 1.0), 'constant', 1, 0.1, 0.01, 0.1, 0.01): 199,\n",
       " ((0.0, 1.0), 'constant', 1, 0.1, 0.01, 0.1, 0.1): 199,\n",
       " ((0.0, 1.0), 'constant', 1, 0.1, 0.01, 0.1, 1): 135,\n",
       " ((0.0, 1.0), 'constant', 1, 0.1, 0.01, 1, 0.01): 152,\n",
       " ((0.0, 1.0), 'constant', 1, 0.1, 0.01, 1, 0.1): 139,\n",
       " ((0.0, 1.0), 'constant', 1, 0.1, 0.01, 1, 1): 73}"
      ]
     },
     "execution_count": 40,
     "metadata": {},
     "output_type": "execute_result"
    }
   ],
   "source": [
    "performance_dict_Const"
   ]
  },
  {
   "cell_type": "code",
   "execution_count": 16,
   "metadata": {},
   "outputs": [
    {
     "name": "stdout",
     "output_type": "stream",
     "text": [
      "proj\n",
      "dict_values([199, 199, 50, 5])\n",
      "const\n",
      "dict_values([199, 199, 52, 199])\n"
     ]
    }
   ],
   "source": [
    "print(\"proj\")\n",
    "print(performance_dict_Proj.values())\n",
    "\n",
    "print(\"const\")\n",
    "print(performance_dict_Const.values())"
   ]
  }
 ],
 "metadata": {
  "kernelspec": {
   "display_name": "Python 3",
   "language": "python",
   "name": "python3"
  },
  "language_info": {
   "codemirror_mode": {
    "name": "ipython",
    "version": 3
   },
   "file_extension": ".py",
   "mimetype": "text/x-python",
   "name": "python",
   "nbconvert_exporter": "python",
   "pygments_lexer": "ipython3",
   "version": "3.10.12"
  }
 },
 "nbformat": 4,
 "nbformat_minor": 2
}
