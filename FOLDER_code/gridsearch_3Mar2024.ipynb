{
 "cells": [
  {
   "cell_type": "markdown",
   "metadata": {},
   "source": [
    "## I think that for projectred gradients I can crank up the learning rate and keep decreasing perofrmance for both steep and flat more than I can with the long-term memoru models "
   ]
  },
  {
   "cell_type": "code",
   "execution_count": 1,
   "metadata": {},
   "outputs": [],
   "source": [
    "import pickle \n",
    "from comdo.utils import *\n",
    "import numpy as np\n",
    "import matplotlib.pyplot as plt"
   ]
  },
  {
   "cell_type": "markdown",
   "metadata": {},
   "source": [
    "### Running simulations for steep and flat initial gradients"
   ]
  },
  {
   "cell_type": "code",
   "execution_count": 2,
   "metadata": {},
   "outputs": [
    {
     "name": "stderr",
     "output_type": "stream",
     "text": [
      "No GPU/TPU found, falling back to CPU. (Set TF_CPP_MIN_LOG_LEVEL=0 and rerun for more info.)\n"
     ]
    }
   ],
   "source": [
    "n_samples = 2\n",
    "max_iterations = 200 \n",
    "\n",
    "betas_c = [0.1]\n",
    "betas_cm = [0]\n",
    "betas_steep = [0.1]\n",
    "betas_flat = [1]\n",
    "\n",
    "\n",
    "### Steep\n",
    "\n",
    "# Baselines\n",
    "dicts_preformance_classicHeavyBall_steep = []\n",
    "dicts_preformance_noMemory_steep = []\n",
    "# Memory profiles\n",
    "dicts_preformances_constant_steep = []\n",
    "dicts_preformances_linear_steep = []\n",
    "dicts_preformances_exponential_steep = []\n",
    "dicts_preformances_fractional_v1_steep = []\n",
    "dicts_preformances_fractional_v2_steep = []\n",
    "# Projected gradients\n",
    "dicts_preformances_projected_steep = []\n",
    "\n",
    "\n",
    "### Flat\n",
    "\n",
    "# Baselines\n",
    "dicts_preformance_classicHeavyBall_flat = []\n",
    "dicts_preformance_noMemory_flat = []\n",
    "# Memory profiles\n",
    "dicts_preformances_constant_flat = []\n",
    "dicts_preformances_linear_flat = []\n",
    "dicts_preformances_exponential_flat = []\n",
    "dicts_preformances_fractional_v1_flat = []\n",
    "dicts_preformances_fractional_v2_flat = []\n",
    "# Projected gradients\n",
    "dicts_preformances_projected_flat = []\n",
    "\n",
    "for sample in range(n_samples):\n",
    "\n",
    "    lens_memory = [ int(np.random.uniform(2, 10))]      # selecting memory length between 2-10 past iterations\n",
    "    c = int(np.random.uniform(1, 10))\n",
    "\n",
    "    betas_gm = [betas_steep[0]/c]\n",
    "    betas_pg = [betas_steep[0]/c]\n",
    "\n",
    "    \n",
    "    ### Steep\n",
    "\n",
    "    # Baselines\n",
    "    preformance_classicHeavyBall_steep = optimize(max_iterations= max_iterations, memory_profiles= [\"constant\"], lens_memory= [1], betas_c= betas_c, betas_cm= betas_cm, betas_g= betas_steep, betas_gm= betas_gm )\n",
    "    dicts_preformance_classicHeavyBall_steep.append(preformance_classicHeavyBall_steep)\n",
    "   \n",
    "    preformance_noMemory_steep = optimize(max_iterations= max_iterations, memory_profiles= [\"constant\"], lens_memory= [1], betas_c= betas_c, betas_cm= betas_cm, betas_g= betas_steep, betas_gm= [0] )\n",
    "    dicts_preformance_noMemory_steep.append(preformance_noMemory_steep)\n",
    "\n",
    "    # Memory profiles\n",
    "    preformance_constant_steep = optimize(max_iterations= max_iterations, memory_profiles= [\"constant\"], lens_memory= lens_memory, betas_c= betas_c, betas_cm= betas_cm, betas_g= betas_steep, betas_gm= betas_gm )\n",
    "    dicts_preformances_constant_steep.append( preformance_constant_steep ) \n",
    "\n",
    "    preformance_linear_steep = optimize(max_iterations= max_iterations, memory_profiles= [\"linear\"], lens_memory= lens_memory, betas_c= betas_c, betas_cm= betas_cm, betas_g= betas_steep, betas_gm= betas_gm )\n",
    "    dicts_preformances_linear_steep.append( preformance_linear_steep ) \n",
    "\n",
    "    preformance_exponential_steep = optimize(max_iterations= max_iterations, memory_profiles= [\"exponential\"], lens_memory= lens_memory, betas_c= betas_c, betas_cm= betas_cm, betas_g= betas_steep, betas_gm= betas_gm )\n",
    "    dicts_preformances_exponential_steep.append( preformance_exponential_steep ) \n",
    "\n",
    "    preformance_fractional_v1_steep = optimize(max_iterations= max_iterations, memory_profiles= [\"fractional_v1\"], lens_memory= lens_memory, betas_c= betas_c, betas_cm= betas_cm, betas_g= betas_steep, betas_gm= betas_gm )\n",
    "    dicts_preformances_fractional_v1_steep.append( preformance_fractional_v1_steep ) \n",
    "\n",
    "    preformance_fractional_v2_steep = optimize(max_iterations= max_iterations, memory_profiles= [\"fractional_v2\"], lens_memory= lens_memory, betas_c= betas_c, betas_cm= betas_cm, betas_g= betas_steep, betas_gm= betas_gm )\n",
    "    dicts_preformances_fractional_v2_steep.append( preformance_fractional_v2_steep ) \n",
    "\n",
    "    # Projected gradients\n",
    "    preformance_projected_steep = optimize(max_iterations= max_iterations, memory_profiles= [\"projected\"], lens_memory= lens_memory, betas_c= betas_c, betas_cm= betas_cm, betas_g= betas_steep, betas_pg= betas_pg )\n",
    "    dicts_preformances_projected_steep.append(preformance_projected_steep) \n",
    "\n",
    "\n",
    "    ### Flat\n",
    "\n",
    "    # Baselines\n",
    "    preformance_classicHeavyBall_flat = optimize(max_iterations= max_iterations, memory_profiles= [\"constant\"], lens_memory= [1], betas_c= betas_c, betas_cm= betas_cm, betas_g= betas_flat, betas_gm= betas_gm )\n",
    "    dicts_preformance_classicHeavyBall_flat.append(preformance_classicHeavyBall_flat)\n",
    "   \n",
    "    preformance_noMemory_flat = optimize(max_iterations= max_iterations, memory_profiles= [\"constant\"], lens_memory= [1], betas_c= betas_c, betas_cm= betas_cm, betas_g= betas_flat, betas_gm= [0] )\n",
    "    dicts_preformance_noMemory_flat.append(preformance_noMemory_flat)\n",
    "\n",
    "    # Memory profiles\n",
    "    preformance_constant_flat = optimize(max_iterations= max_iterations, memory_profiles= [\"constant\"], lens_memory= lens_memory, betas_c= betas_c, betas_cm= betas_cm, betas_g= betas_flat, betas_gm= betas_gm )\n",
    "    dicts_preformances_constant_flat.append( preformance_constant_flat ) \n",
    "\n",
    "    preformance_linear_flat = optimize(max_iterations= max_iterations, memory_profiles= [\"linear\"], lens_memory= lens_memory, betas_c= betas_c, betas_cm= betas_cm, betas_g= betas_flat, betas_gm= betas_gm )\n",
    "    dicts_preformances_linear_flat.append( preformance_linear_flat ) \n",
    "\n",
    "    preformance_exponential_flat = optimize(max_iterations= max_iterations, memory_profiles= [\"exponential\"], lens_memory= lens_memory, betas_c= betas_c, betas_cm= betas_cm, betas_g= betas_flat, betas_gm= betas_gm )\n",
    "    dicts_preformances_exponential_flat.append( preformance_exponential_flat ) \n",
    "\n",
    "    preformance_fractional_v1_flat = optimize(max_iterations= max_iterations, memory_profiles= [\"fractional_v1\"], lens_memory= lens_memory, betas_c= betas_c, betas_cm= betas_cm, betas_g= betas_flat, betas_gm= betas_gm )\n",
    "    dicts_preformances_fractional_v1_flat.append( preformance_fractional_v1_flat ) \n",
    "\n",
    "    preformance_fractional_v2_flat = optimize(max_iterations= max_iterations, memory_profiles= [\"fractional_v2\"], lens_memory= lens_memory, betas_c= betas_c, betas_cm= betas_cm, betas_g= betas_flat, betas_gm= betas_gm )\n",
    "    dicts_preformances_fractional_v2_flat.append( preformance_fractional_v2_flat ) \n",
    "\n",
    "    # Projected gradients\n",
    "    preformance_projected_flat = optimize(max_iterations= max_iterations, memory_profiles= [\"projected\"], lens_memory= lens_memory, betas_c= betas_c, betas_cm= betas_cm, betas_g= betas_flat, betas_pg= betas_pg )\n",
    "    dicts_preformances_projected_flat.append(preformance_projected_flat) "
   ]
  },
  {
   "cell_type": "code",
   "execution_count": 9,
   "metadata": {},
   "outputs": [
    {
     "data": {
      "text/plain": [
       "[{((1.0, 0.0), 'constant', 4, 0.1, 0, 0.1, 0.0125): 13,\n",
       "  ((0.0, 1.0), 'constant', 4, 0.1, 0, 0.1, 0.0125): 199},\n",
       " {((1.0, 0.0), 'constant', 7, 0.1, 0, 0.1, 0.05): 27,\n",
       "  ((0.0, 1.0), 'constant', 7, 0.1, 0, 0.1, 0.05): 199}]"
      ]
     },
     "execution_count": 9,
     "metadata": {},
     "output_type": "execute_result"
    }
   ],
   "source": [
    "dicts_preformances_constant_steep"
   ]
  },
  {
   "cell_type": "markdown",
   "metadata": {},
   "source": [
    "## Do the following for all 12 conditions"
   ]
  },
  {
   "cell_type": "code",
   "execution_count": 3,
   "metadata": {},
   "outputs": [],
   "source": [
    "# iters_preformances_projected_flat =  [ [ dicts_preformances_projected_flat[i][key] for key in dicts_preformances_projected_flat[i]][0]  for i in range(len(dicts_preformances_projected_flat)) ]  \n",
    "\n",
    "### Steep\n",
    "\n",
    "# Baselines\n",
    "iters_preformance_classicHeavyBall_steep = [ [ dicts_preformance_classicHeavyBall_steep[i][key] for key in dicts_preformance_classicHeavyBall_steep[i]][0]  for i in range(len(dicts_preformance_classicHeavyBall_steep)) ]  \n",
    "iters_preformance_noMemory_steep = [ [ dicts_preformance_noMemory_steep[i][key] for key in dicts_preformance_noMemory_steep[i]][0]  for i in range(len(dicts_preformance_noMemory_steep)) ]  \n",
    "# Memory#\n",
    "iters_preformances_constant_steep = [ [ dicts_preformances_constant_steep[i][key] for key in dicts_preformances_constant_steep[i]][0]  for i in range(len(dicts_preformances_constant_steep)) ]  \n",
    "iters_preformances_linear_steep = [ [ dicts_preformances_linear_steep[i][key] for key in dicts_preformances_linear_steep[i]][0]  for i in range(len(dicts_preformances_linear_steep)) ]  \n",
    "iters_preformances_exponential_steep = [ [ dicts_preformances_exponential_steep[i][key] for key in dicts_preformances_exponential_steep[i]][0]  for i in range(len(dicts_preformances_exponential_steep)) ]  \n",
    "iters_preformances_fractional_v1_steep = [ [ dicts_preformances_fractional_v1_steep[i][key] for key in dicts_preformances_fractional_v1_steep[i]][0]  for i in range(len(dicts_preformances_fractional_v1_steep)) ]  \n",
    "iters_preformances_fractional_v2_steep = [ [ dicts_preformances_fractional_v2_steep[i][key] for key in dicts_preformances_fractional_v2_steep[i]][0]  for i in range(len(dicts_preformances_fractional_v2_steep)) ]  \n",
    "# Projec# gradients\n",
    "iters_preformances_projected_steep = [ [ dicts_preformances_projected_steep[i][key] for key in dicts_preformances_projected_steep[i]][0]  for i in range(len(dicts_preformances_projected_steep)) ]  \n",
    "\n",
    "\n",
    "### Flat\n",
    "\n",
    "# Baselines\n",
    "iters_preformance_classicHeavyBall_flat = [ [ dicts_preformance_classicHeavyBall_flat[i][key] for key in dicts_preformance_classicHeavyBall_flat[i]][0]  for i in range(len(dicts_preformance_classicHeavyBall_flat)) ]  \n",
    "iters_preformance_noMemory_flat = [ [ dicts_preformance_noMemory_flat[i][key] for key in dicts_preformance_noMemory_flat[i]][0]  for i in range(len(dicts_preformance_noMemory_flat)) ]  \n",
    "# Memory profiles\n",
    "iters_preformances_constant_flat = [ [ dicts_preformances_constant_flat[i][key] for key in dicts_preformances_constant_flat[i]][0]  for i in range(len(dicts_preformances_constant_flat)) ]  \n",
    "iters_preformances_linear_flat = [ [ dicts_preformances_linear_flat[i][key] for key in dicts_preformances_linear_flat[i]][0]  for i in range(len(dicts_preformances_linear_flat)) ]  \n",
    "iters_preformances_exponential_flat = [ [ dicts_preformances_exponential_flat[i][key] for key in dicts_preformances_exponential_flat[i]][0]  for i in range(len(dicts_preformances_exponential_flat)) ]  \n",
    "iters_preformances_fractional_v1_flat = [ [ dicts_preformances_fractional_v1_flat[i][key] for key in dicts_preformances_fractional_v1_flat[i]][0]  for i in range(len(dicts_preformances_fractional_v1_flat)) ]  \n",
    "iters_preformances_fractional_v2_flat = [ [ dicts_preformances_fractional_v2_flat[i][key] for key in dicts_preformances_fractional_v2_flat[i]][0]  for i in range(len(dicts_preformances_fractional_v2_flat)) ]  \n",
    "# Projected gradients\n",
    "iters_preformances_projected_flat = [ [ dicts_preformances_projected_flat[i][key] for key in dicts_preformances_projected_flat[i]][0]  for i in range(len(dicts_preformances_projected_flat)) ]  \n",
    "\n",
    "\n"
   ]
  },
  {
   "cell_type": "markdown",
   "metadata": {},
   "source": [
    "## Inspection - I expect to see each variable holding a list with 2 ints"
   ]
  },
  {
   "cell_type": "code",
   "execution_count": 4,
   "metadata": {},
   "outputs": [
    {
     "name": "stdout",
     "output_type": "stream",
     "text": [
      "[10, 11]\n",
      "[14, 14]\n",
      "[15, 16]\n",
      "[13, 13]\n",
      "[11, 12]\n",
      "[11, 12]\n",
      "[16, 16]\n",
      "[10, 11]\n",
      "[151, 152]\n",
      "[154, 154]\n",
      "[152, 153]\n",
      "[153, 153]\n",
      "[154, 154]\n",
      "[152, 153]\n",
      "[149, 150]\n"
     ]
    }
   ],
   "source": [
    "### Steep\n",
    "\n",
    "# Baselines\n",
    "print(iters_preformance_classicHeavyBall_steep) \n",
    "print(iters_preformance_noMemory_steep)\n",
    "# Memory#\n",
    "print(iters_preformances_constant_steep) \n",
    "print(iters_preformances_linear_steep) \n",
    "print(iters_preformances_exponential_steep) \n",
    "print(iters_preformances_fractional_v1_steep)\n",
    "print(iters_preformances_fractional_v2_steep) \n",
    "# Projec# gradients\n",
    "print(iters_preformances_projected_steep) \n",
    "\n",
    "\n",
    "### Flat\n",
    "\n",
    "# Baselines\n",
    "print(iters_preformance_classicHeavyBall_flat) \n",
    "print(iters_preformance_noMemory_flat) \n",
    "# Memory profiles\n",
    "iters_preformances_constant_flat\n",
    "print(iters_preformances_linear_flat) \n",
    "print(iters_preformances_exponential_flat)\n",
    "print(iters_preformances_fractional_v1_flat) \n",
    "print(iters_preformances_fractional_v2_flat)\n",
    "# Projected gradients\n",
    "print(iters_preformances_projected_flat) \n"
   ]
  }
 ],
 "metadata": {
  "kernelspec": {
   "display_name": "Python 3",
   "language": "python",
   "name": "python3"
  },
  "language_info": {
   "codemirror_mode": {
    "name": "ipython",
    "version": 3
   },
   "file_extension": ".py",
   "mimetype": "text/x-python",
   "name": "python",
   "nbconvert_exporter": "python",
   "pygments_lexer": "ipython3",
   "version": "3.10.12"
  }
 },
 "nbformat": 4,
 "nbformat_minor": 2
}
