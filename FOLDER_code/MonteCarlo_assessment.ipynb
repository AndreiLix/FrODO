{
 "cells": [
  {
   "cell_type": "markdown",
   "metadata": {},
   "source": [
    "# Goal\n",
    "Have a boxplot with the sensitivity of each memory profile to different samples of hyperparameters;\n",
    "\n",
    "x-axis: memory profle\n",
    "y-axis: iterations uintil convergence - range, std, mean.\n",
    "\n",
    "\n",
    "\n",
    "All betas > 0, such that you'll terst the algorithm and not its skeleton.\n",
    "\n",
    "algorithm: `step_withMemory()`\n",
    "\n",
    "samples per memory profile: 1000\n",
    "- Ammounts to 4000 samples ~ 5.5 h"
   ]
  },
  {
   "cell_type": "markdown",
   "metadata": {},
   "source": [
    "## If std too large, deccrease range of betas to 0.01, 1"
   ]
  },
  {
   "cell_type": "code",
   "execution_count": 31,
   "metadata": {},
   "outputs": [
    {
     "name": "stdout",
     "output_type": "stream",
     "text": [
      "['the_value']\n"
     ]
    }
   ],
   "source": [
    "my_dict = {'key_name': 'the_value'}\n",
    "my_list = [my_dict[key] for key in my_dict]\n",
    "\n",
    "print(my_list)  # This will print ['the_value']"
   ]
  },
  {
   "cell_type": "code",
   "execution_count": 37,
   "metadata": {},
   "outputs": [],
   "source": [
    "from comdo.utils import *\n",
    "import numpy as np\n",
    "\n",
    "n_samples = 2    # do 10 for tests, for full run do 1000\n",
    "max_iterations = 200\n",
    "\n",
    "performanceByProfile_dict = {}\n",
    "\n",
    "# list: colection of profile performance across sampld hyperparameters\n",
    "preformance_fractional = []\n",
    "\n",
    "for sample in range(n_samples):\n",
    "\n",
    "    _lambdas = [np.random.uniform(low= 0.4, high = 2.6)]\n",
    "    lens_memory =[ int(np.random.uniform(1, 100))]\n",
    "    betas_c = [np.random.uniform(0.01, 1)]\n",
    "    betas_cm = [np.random.uniform(0.01, 1)]\n",
    "    betas_g =[ np.random.uniform(0.01, 1)]\n",
    "    betas_gm = [np.random.uniform(0.01, 1)]\n",
    "\n",
    "    performance_dict = optimize(max_iterations= max_iterations, memory_profiles= [\"fractional\"], _lambdas= _lambdas, lens_memory= lens_memory, betas_c = betas_c, betas_cm= betas_cm, betas_g= betas_g, betas_gm= betas_gm)\n",
    "   \n",
    "    preformance_fractional = [performance_dict[key] for key in performance_dict]\n",
    "\n",
    "\n",
    "preformance_exponential = []\n",
    "\n",
    "for sample in range(n_samples):\n",
    "\n",
    "    bs =[ np.random.uniform(low= 100)]\n",
    "    lens_memory = [int(np.random.uniform(1, 100))]\n",
    "    betas_c =[ np.random.uniform(0.01, 1)]\n",
    "    betas_cm = [np.random.uniform(0.01, 1)]\n",
    "    betas_g = [np.random.uniform(0.01, 1)]\n",
    "    betas_gm =[ np.random.uniform(0.01, 1)]\n",
    "\n",
    "    performance_dict = optimize(max_iterations= max_iterations, memory_profiles= [\"exponential\"], bs= bs, lens_memory= lens_memory, betas_c = betas_c, betas_cm= betas_cm, betas_g= betas_g, betas_gm= betas_gm)\n",
    "    preformance_exponential = [performance_dict[key] for key in performance_dict]\n",
    "\n",
    "\n",
    "preformance_linear = []\n",
    "\n",
    "for sample in range(n_samples):\n",
    "\n",
    "    lens_memory = [int(np.random.uniform(1, 100))]\n",
    "    betas_c =[ np.random.uniform(0.01, 1)]\n",
    "    betas_cm = [np.random.uniform(0.01, 1)]\n",
    "    betas_g = [np.random.uniform(0.01, 1)]\n",
    "    betas_gm = [np.random.uniform(0.01, 1)]\n",
    "\n",
    "    performance_dict = optimize(max_iterations= max_iterations, memory_profiles= [\"linear\"], lens_memory= lens_memory, betas_c = betas_c, betas_cm= betas_cm, betas_g= betas_g, betas_gm= betas_gm)\n",
    "    preformance_linear = [performance_dict[key] for key in performance_dict]\n",
    "\n",
    "preformance_constant = []\n",
    "\n",
    "for sample in range(n_samples):\n",
    "\n",
    "\n",
    "    lens_memory =[ int(np.random.uniform(1, 100))]\n",
    "    betas_c =[ np.random.uniform(0.01, 1)]\n",
    "    betas_cm =[ np.random.uniform(0.01, 1)]\n",
    "    betas_g =[ np.random.uniform(0.01, 1)]\n",
    "    betas_gm =[ np.random.uniform(0.01, 1)]\n",
    "\n",
    "    performance_dict = optimize(max_iterations= max_iterations, memory_profiles= [\"constant\"], lens_memory= lens_memory, betas_c = betas_c, betas_cm= betas_cm, betas_g= betas_g, betas_gm= betas_gm)\n",
    "    preformance_constant = [performance_dict[key] for key in performance_dict]\n",
    "\n",
    "# dict containing iterations until convergence for a memory profile, given sampled hyperparqameters\n",
    "\n",
    "performanceByProfile_dict = {}\n",
    "\n",
    "performanceByProfile_dict[\"fractional\"] = preformance_fractional\n",
    "performanceByProfile_dict[\"exponential\"] = preformance_exponential\n",
    "performanceByProfile_dict[\"linear\"] = preformance_linear\n",
    "performanceByProfile_dict[\"constant\"] = preformance_constant"
   ]
  },
  {
   "cell_type": "code",
   "execution_count": 40,
   "metadata": {},
   "outputs": [
    {
     "data": {
      "text/plain": [
       "{'fractional': [199, 106],\n",
       " 'exponential': [199, 199],\n",
       " 'linear': [15, 199],\n",
       " 'constant': [199, 199]}"
      ]
     },
     "execution_count": 40,
     "metadata": {},
     "output_type": "execute_result"
    }
   ],
   "source": [
    "performanceByProfile_dict"
   ]
  },
  {
   "cell_type": "code",
   "execution_count": 29,
   "metadata": {},
   "outputs": [
    {
     "name": "stdout",
     "output_type": "stream",
     "text": [
      "2.6\n"
     ]
    }
   ],
   "source": [
    "def f_dummy(i : int):\n",
    "    return i*2\n",
    "\n",
    "print(f_dummy(1.3))"
   ]
  },
  {
   "cell_type": "code",
   "execution_count": null,
   "metadata": {},
   "outputs": [],
   "source": [
    "import pickle \n",
    "\n",
    "with open('dict_MonteCarlo_byProfile.pkl', 'wb') as f:\n",
    "    pickle.dump(performanceByProfile_dict, f)"
   ]
  },
  {
   "cell_type": "code",
   "execution_count": null,
   "metadata": {},
   "outputs": [],
   "source": [
    "for key in performanceByProfile_dict:\n",
    "    "
   ]
  }
 ],
 "metadata": {
  "kernelspec": {
   "display_name": "Python 3",
   "language": "python",
   "name": "python3"
  },
  "language_info": {
   "codemirror_mode": {
    "name": "ipython",
    "version": 3
   },
   "file_extension": ".py",
   "mimetype": "text/x-python",
   "name": "python",
   "nbconvert_exporter": "python",
   "pygments_lexer": "ipython3",
   "version": "3.10.12"
  }
 },
 "nbformat": 4,
 "nbformat_minor": 2
}
