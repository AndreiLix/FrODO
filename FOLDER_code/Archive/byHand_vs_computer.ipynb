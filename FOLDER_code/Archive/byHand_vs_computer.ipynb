{
 "cells": [
  {
   "cell_type": "markdown",
   "metadata": {},
   "source": [
    "# By Hand"
   ]
  },
  {
   "cell_type": "markdown",
   "metadata": {},
   "source": [
    "f1 = (x-5)**2 + 1\n",
    "\n",
    "f2 = 2*x**2 + 3 \n",
    "\n",
    "f3 = (x-2)** 2 - 1\n",
    "\n",
    "\n",
    "$x^*=7/4$"
   ]
  },
  {
   "cell_type": "code",
   "execution_count": 2,
   "metadata": {},
   "outputs": [],
   "source": [
    "alpha = 3\n",
    "beta = 0.2\n",
    "a = 1\n",
    "\n",
    "x_opt = 7/4"
   ]
  },
  {
   "cell_type": "markdown",
   "metadata": {},
   "source": [
    "### Iteration #1"
   ]
  },
  {
   "cell_type": "code",
   "execution_count": 3,
   "metadata": {},
   "outputs": [
    {
     "name": "stdout",
     "output_type": "stream",
     "text": [
      "x1 =  3, \n",
      "x2 =  0, \n",
      "x3 =  1, \n",
      "\n",
      "z1 =  0, \n",
      "z2 =  0, \n",
      "z3 =  0\n"
     ]
    }
   ],
   "source": [
    "z1 = 0\n",
    "z2 = 0\n",
    "z3 = 0\n",
    "\n",
    "x1 = 3\n",
    "x2 = 0\n",
    "x3 = 1\n",
    "\n",
    "print(f\"x1 =  {x1}, \\nx2 =  {x2}, \\nx3 =  {x3}, \\n\\nz1 =  {z1}, \\nz2 =  {z2}, \\nz3 =  {z3}\" )"
   ]
  },
  {
   "cell_type": "markdown",
   "metadata": {},
   "source": [
    "### Iteration #2"
   ]
  },
  {
   "cell_type": "code",
   "execution_count": 4,
   "metadata": {},
   "outputs": [],
   "source": [
    "# z1 = z1 + beta * (x1 - x2 + x1 - x3)\n",
    "# z2 = z2 + beta * (x2 - x1 + x2 - x3)\n",
    "# z3 = z3 + beta * (x3 - x1 + x3 - x2)\n",
    "\n",
    "# x1 = x1 + beta*(-3-2) + beta * (-0.8-1-0.4-1) - beta * alpha * (-4)\n",
    "# x2 = x2 + beta * (3+1+1+0.8-0.4+0.8+3*0)\n",
    "# x3 = x3 + 1 + beta * (2-1+1+0.4-0.8+0.4-3*(-2))\n",
    "\n",
    "# print(f\"x1 =  {x1}, \\nx2 =  {x2}, \\nx3 =  {x3}, \\n\\nz1 =  {z1}, \\nz2 =  {z2}, \\nz3 =  {z3}\" )"
   ]
  },
  {
   "cell_type": "code",
   "execution_count": 5,
   "metadata": {},
   "outputs": [
    {
     "name": "stdout",
     "output_type": "stream",
     "text": [
      "x1 =  3.8, \n",
      "x2 =  1.44, \n",
      "x3 =  2.968, \n",
      "\n",
      "z1 =  1.0, \n",
      "z2 =  -0.8, \n",
      "z3 =  -0.2\n"
     ]
    }
   ],
   "source": [
    "z1 = z1 + beta * (x1 - x2 + x1 - x3)\n",
    "z2 = z2 + beta * (x2 - x1 + x2 - x3)\n",
    "z3 = z3 + beta * (x3 - x1 + x3 - x2)\n",
    "\n",
    "x1 = x1 + beta * (x2 - x1 + x3 - x1 + z2 - z1 + z3 - z1 - alpha * (2* x1 - 10))\n",
    "x2 = x2 + beta * (x1 - x2 + x3 - x2 + z1 - z2 + z3 - z2 - alpha * (4* x2))\n",
    "x3 = x3 + beta * (x1 - x3 + x2 - x3 + z1 - z3 + z2 - z3 - alpha * (2* x3 -4))\n",
    "\n",
    "print(f\"x1 =  {x1}, \\nx2 =  {x2}, \\nx3 =  {x3}, \\n\\nz1 =  {z1}, \\nz2 =  {z2}, \\nz3 =  {z3}\" )"
   ]
  },
  {
   "cell_type": "markdown",
   "metadata": {},
   "source": [
    "### Iteration #3"
   ]
  },
  {
   "cell_type": "code",
   "execution_count": 6,
   "metadata": {},
   "outputs": [
    {
     "name": "stdout",
     "output_type": "stream",
     "text": [
      "x1 =  3.61856, \n",
      "x2 =  -0.3281280000000002, \n",
      "x3 =  1.3137664, \n",
      "\n",
      "z1 =  1.6384, \n",
      "z2 =  -1.5776000000000001, \n",
      "z3 =  -0.060799999999999965\n"
     ]
    }
   ],
   "source": [
    "z1 = z1 + beta * (x1 - x2 + x1 - x3)\n",
    "z2 = z2 + beta * (x2 - x1 + x2 - x3)\n",
    "z3 = z3 + beta * (x3 - x1 + x3 - x2)\n",
    "\n",
    "x1 = x1 + beta * (x2 - x1 + x3 - x1 + z2 - z1 + z3 - z1 - alpha * (2* x1 - 10))\n",
    "x2 = x2 + beta * (x1 - x2 + x3 - x2 + z1 - z2 + z3 - z2 - alpha * (4* x2))\n",
    "x3 = x3 + beta * (x1 - x3 + x2 - x3 + z1 - z3 + z2 - z3 - alpha * (2* x3 -4))\n",
    "\n",
    "print(f\"x1 =  {x1}, \\nx2 =  {x2}, \\nx3 =  {x3}, \\n\\nz1 =  {z1}, \\nz2 =  {z2}, \\nz3 =  {z3}\" )"
   ]
  },
  {
   "cell_type": "markdown",
   "metadata": {},
   "source": [
    "# Computer"
   ]
  },
  {
   "cell_type": "markdown",
   "metadata": {},
   "source": [
    "### Helper functions - Euler gradient"
   ]
  },
  {
   "cell_type": "code",
   "execution_count": 7,
   "metadata": {},
   "outputs": [],
   "source": [
    "def f_global(x, fs_private):    # global objective function\n",
    "    \"\"\"    \n",
    "    Returns\n",
    "    -------\n",
    "    output: float\n",
    "        The output of our global objective function for the current state of the agents.\n",
    "            The goal is to make this output as low as possible (see eq. 1).\n",
    "    \n",
    "    \"\"\"\n",
    "\n",
    "\n",
    "    private_outputs = [ f_i(x_i) for f_i, x_i in zip(fs_private, x) ]\n",
    "\n",
    "    # print(\"Private Outputs:\",  private_outputs)\n",
    "\n",
    "    global_output = sum(private_outputs)\n",
    "\n",
    "    return global_output\n",
    "\n",
    "\n",
    "def get_subgradient(f, x, delta= 1e-2):\n",
    "\n",
    "    \"\"\"\n",
    "    Parameters\n",
    "    -----------\n",
    "    f: function\n",
    "        An arbitrary function.\n",
    "    x: array-like\n",
    "        An array with the (multi-dimensional) point for which the subgradient of f is desired.\n",
    "    delta: float\n",
    "        Represents an infinitesimally small step along an axis.\n",
    "    \n",
    "    Returns\n",
    "    -------\n",
    "    float: value of the subgradient (directional derivative) of f at point x.             \n",
    "    \"\"\"\n",
    "    \n",
    "    import numpy as np\n",
    "\n",
    "    if type(x[0]) is not float:\n",
    "        x = [float(x_i) for x_i in x]\n",
    "\n",
    "    # Depricated------------------ -> try putting a \"-\" in front of g at step 2 of the optimization process\n",
    "\n",
    "    Df = np.zeros((len(x), 1), dtype=int)    # list with the partial deriatives of f w.r.t. x_1, ..., x_n\n",
    "\n",
    "    for i in range(len(x)):\n",
    "\n",
    "        x_aux = np.copy(x)\n",
    "        \n",
    "        x_aux[i] = x[i] + delta\n",
    "\n",
    "        Df[i] = (f(x_aux)-f(x)) / delta          # Get this to work, then get back!\n",
    "    \n",
    "    return Df\n",
    "\n",
    "\n",
    "def step(x, z, fs_private, beta= 0.2, alpha= 3, a= 1):\n",
    "    \"\"\"\n",
    "    Changes the states of our agents based on a step in the optimization process.\n",
    "\n",
    "    \n",
    "    Returns\n",
    "    --------\n",
    "    x, z: tupple\n",
    "        The updated angents's states (x) and updawted auxiliary states (z). \n",
    "\n",
    "    \"\"\"\n",
    "\n",
    "    n_agents = len(fs_private)\n",
    "\n",
    "    #------------- first stage -----------------------\n",
    "    \n",
    "    # nodes exchanges states x_i and compute auxiliary states z_i.\n",
    "\n",
    "    for i in range(n_agents):\n",
    "        \n",
    "        # Test the following in simple env\n",
    "        z[i] = z[i] + beta*sum( [ a*(x[i] - x[j]) for j in range(n_agents) if j!= i ]  )\n",
    "\n",
    "    \n",
    "    #------------- second stage --------------------  \n",
    "    \n",
    "    # nodes exchange auxiliary states z_i and update states x_i.\n",
    "    \n",
    "    for i in range(len(fs_private)):\n",
    "        \n",
    "        # Test the following in simple env\n",
    "        x[i] = x[i] + beta*sum( [ a*(x[j] - x[i]) for j in range(n_agents) if j!= i ]  ) \\\n",
    "                                + beta*sum( [ a*(z[j] - z[i]) for j in range(n_agents) if j!= i ] ) \\\n",
    "                                    - beta * alpha * get_subgradient(fs_private[i], x[i] )\n",
    "        \n",
    "    return x, z\n",
    "\n"
   ]
  },
  {
   "cell_type": "code",
   "execution_count": 8,
   "metadata": {},
   "outputs": [],
   "source": [
    "import numpy as np\n",
    "\n",
    "x1 = np.array(         # picking arbitrary initial parameters for the agents's states (2 parameters for a quadratic function) \n",
    "            [ [3.] ]\n",
    "            )\n",
    "\n",
    "x2 = np.array(        \n",
    "            [ [0.] ]\n",
    "            )\n",
    "\n",
    "x3 = np.array(        \n",
    "            [ [1.] ]\n",
    "            )\n",
    "\n",
    "\n",
    "z1 = np.array(         # picking arbitrary initial parameters for the agents's states (2 parameters for a quadratic function) \n",
    "            [ [0.] ]\n",
    "            )\n",
    "\n",
    "z2 = np.array(        \n",
    "            [ [0.] ]\n",
    "            )\n",
    "\n",
    "z3 = np.array(        \n",
    "            [ [0.] ]\n",
    "            )\n",
    "\n",
    "\n",
    "x= [x1, x2, x3]\n",
    "z = [z1, z2, z3]\n",
    "\n",
    "\n",
    "\n",
    "f1 = lambda x: np.squeeze((x[0]-5)**2 + 1)\n",
    "\n",
    "f2 = lambda x: np.squeeze(2*x[0]**2 + 3) \n",
    "\n",
    "f3 = lambda x: np.squeeze((x[0]-2)** 2 - 1)\n",
    "\n",
    "\n",
    "fs_private = [f1, f2, f3]\n",
    "\n"
   ]
  },
  {
   "cell_type": "code",
   "execution_count": 9,
   "metadata": {},
   "outputs": [
    {
     "name": "stdout",
     "output_type": "stream",
     "text": [
      "Eurler gradient \n",
      "\n",
      "\n",
      "x1 =  [[3.]], \n",
      "x2 =  [[0.]], \n",
      "x3 =  [[1.]], \n",
      "\n",
      "z1 =  [[0.]], \n",
      "z2 =  [[0.]], \n",
      "z3 =  [[0.]] \n",
      "\n",
      "\n",
      "\n",
      "x1 =  [[3.2]], \n",
      "x2 =  [[1.32]], \n",
      "x3 =  [[2.224]], \n",
      "\n",
      "z1 =  [[1.]], \n",
      "z2 =  [[-0.8]], \n",
      "z3 =  [[-0.2]] \n",
      "\n",
      "\n",
      "\n",
      "x1 =  [[3.48608]], \n",
      "x2 =  [[-0.251904]], \n",
      "x3 =  [[2.1098752]], \n",
      "\n",
      "z1 =  [[1.5712]], \n",
      "z2 =  [[-1.3568]], \n",
      "z3 =  [[-0.2144]] \n",
      "\n",
      "\n",
      "\n"
     ]
    },
    {
     "name": "stderr",
     "output_type": "stream",
     "text": [
      "/tmp/ipykernel_6426/1618579653.py:41: DeprecationWarning: Conversion of an array with ndim > 0 to a scalar is deprecated, and will error in future. Ensure you extract a single element from your array before performing this operation. (Deprecated NumPy 1.25.)\n",
      "  x = [float(x_i) for x_i in x]\n"
     ]
    }
   ],
   "source": [
    "\n",
    "history_f_global = []\n",
    "\n",
    "history_agent1 = []\n",
    "history_agent2 = []\n",
    "history_agent3 = []\n",
    "\n",
    "\n",
    "print(\"Eurler gradient \\n\\n\")\n",
    "\n",
    "for _ in range(3):\n",
    "\n",
    "    history_agent1.append(x[0])\n",
    "    history_agent2.append(x[1])\n",
    "    history_agent3.append(x[2])\n",
    "\n",
    "    print(f\"x1 =  {x[0]}, \\nx2 =  {x[1]}, \\nx3 =  {x[2]}, \\n\\nz1 =  {z[0]}, \\nz2 =  {z[1]}, \\nz3 =  {z[2]} \\n\\n\\n\" )\n",
    "\n",
    "    history_f_global.append(f_global(x, fs_private))\n",
    "\n",
    "    x, z = step(x, z, fs_private, alpha=3, beta= 0.2, a= 1)\n",
    "\n"
   ]
  },
  {
   "cell_type": "markdown",
   "metadata": {},
   "source": [
    "## Doesn't work,\n",
    "For subgradient, replace Euler method with analytical gradient "
   ]
  },
  {
   "cell_type": "markdown",
   "metadata": {},
   "source": [
    "### Helper functions - Analytical gradient"
   ]
  },
  {
   "cell_type": "code",
   "execution_count": 10,
   "metadata": {},
   "outputs": [],
   "source": [
    "def step_v2(x, z, fs_private, beta= 0.2, alpha= 3, a= 1):\n",
    "    \"\"\"\n",
    "    Changes the states of our agents based on a step in the optimization process.\n",
    "\n",
    "    \n",
    "    Returns\n",
    "    --------\n",
    "    x, z: tupple\n",
    "        The updated angents's states (x) and updawted auxiliary states (z). \n",
    "\n",
    "    \"\"\"\n",
    "\n",
    "\n",
    "    subgradients = [ lambda x: 2*x-10, lambda x: 4*x, lambda x: 2*x-4]\n",
    "\n",
    "\n",
    "    n_agents = len(fs_private)\n",
    "\n",
    "    #------------- first stage -----------------------\n",
    "    \n",
    "    # nodes exchanges states x_i and compute auxiliary states z_i.\n",
    "\n",
    "    for i in range(n_agents):\n",
    "        \n",
    "        # Test the following in simple env\n",
    "        z[i] = z[i] + beta*sum( [ a*(x[i] - x[j]) for j in range(n_agents) if j!= i ]  )\n",
    "\n",
    "    \n",
    "    #------------- second stage --------------------  \n",
    "    \n",
    "    # nodes exchange auxiliary states z_i and update states x_i.\n",
    "    \n",
    "    for i in range(len(fs_private)):\n",
    "        \n",
    "        # Test the following in simple env\n",
    "        x[i] = x[i] + beta*sum( [ a*(x[j] - x[i]) for j in range(n_agents) if j!= i ]  ) \\\n",
    "                                + beta*sum( [ a*(z[j] - z[i]) for j in range(n_agents) if j!= i ] ) \\\n",
    "                                    - beta * alpha * subgradients[i](x[i])\n",
    "        \n",
    "    return x, z\n"
   ]
  },
  {
   "cell_type": "code",
   "execution_count": 11,
   "metadata": {},
   "outputs": [
    {
     "name": "stdout",
     "output_type": "stream",
     "text": [
      "Analytical gradient \n",
      " \n",
      "\n",
      "x1 =  [[3.]], \n",
      "x2 =  [[0.]], \n",
      "x3 =  [[1.]], \n",
      "\n",
      "z1 =  [[0.]], \n",
      "z2 =  [[0.]], \n",
      "z3 =  [[0.]] \n",
      "\n",
      "\n",
      "\n",
      "x1 =  [[3.8]], \n",
      "x2 =  [[1.44]], \n",
      "x3 =  [[2.968]], \n",
      "\n",
      "z1 =  [[1.]], \n",
      "z2 =  [[-0.8]], \n",
      "z3 =  [[-0.2]] \n",
      "\n",
      "\n",
      "\n",
      "x1 =  [[3.61856]], \n",
      "x2 =  [[-0.328128]], \n",
      "x3 =  [[1.3137664]], \n",
      "\n",
      "z1 =  [[1.6384]], \n",
      "z2 =  [[-1.5776]], \n",
      "z3 =  [[-0.0608]] \n",
      "\n",
      "\n",
      "\n"
     ]
    }
   ],
   "source": [
    "import numpy as np\n",
    "\n",
    "x1 = np.array(         # picking arbitrary initial parameters for the agents's states (2 parameters for a quadratic function) \n",
    "            [ [3.] ]\n",
    "            )\n",
    "\n",
    "x2 = np.array(        \n",
    "            [ [0.] ]\n",
    "            )\n",
    "\n",
    "x3 = np.array(        \n",
    "            [ [1.] ]\n",
    "            )\n",
    "\n",
    "\n",
    "z1 = np.array(         # picking arbitrary initial parameters for the agents's states (2 parameters for a quadratic function) \n",
    "            [ [0.] ]\n",
    "            )\n",
    "\n",
    "z2 = np.array(        \n",
    "            [ [0.] ]\n",
    "            )\n",
    "\n",
    "z3 = np.array(        \n",
    "            [ [0.] ]\n",
    "            )\n",
    "\n",
    "\n",
    "x= [x1, x2, x3]\n",
    "z = [z1, z2, z3]\n",
    "\n",
    "\n",
    "\n",
    "f1 = lambda x: np.squeeze((x[0]-5)**2 + 1)\n",
    "\n",
    "f2 = lambda x: np.squeeze(2*x[0]**2 + 3) \n",
    "\n",
    "f3 = lambda x: np.squeeze((x[0]-2)** 2 - 1)\n",
    "\n",
    "\n",
    "fs_private = [f1, f2, f3]\n",
    "\n",
    "\n",
    "\n",
    "\n",
    "history_f_global = []\n",
    "\n",
    "history_agent1 = []\n",
    "history_agent2 = []\n",
    "history_agent3 = []\n",
    "\n",
    "print(\"Analytical gradient \\n \\n\")\n",
    "\n",
    "\n",
    "for _ in range(3):\n",
    "\n",
    "    history_agent1.append(x[0])\n",
    "    history_agent2.append(x[1])\n",
    "    history_agent3.append(x[2])\n",
    "\n",
    "    print(f\"x1 =  {x[0]}, \\nx2 =  {x[1]}, \\nx3 =  {x[2]}, \\n\\nz1 =  {z[0]}, \\nz2 =  {z[1]}, \\nz3 =  {z[2]} \\n\\n\\n\" )\n",
    "\n",
    "    history_f_global.append(f_global(x, fs_private))\n",
    "\n",
    "    x, z = step_v2(x, z, fs_private, alpha=3, beta= 0.2, a= 1)\n",
    "\n"
   ]
  },
  {
   "cell_type": "markdown",
   "metadata": {},
   "source": [
    "## step_v2() is like by-hand, replace step() with it"
   ]
  },
  {
   "cell_type": "markdown",
   "metadata": {},
   "source": [
    "### compare convergence with **analytical** and **Euler** gradient"
   ]
  },
  {
   "cell_type": "code",
   "execution_count": 12,
   "metadata": {},
   "outputs": [],
   "source": [
    "alpha = 3\n",
    "beta = 0.2\n",
    "a = 1\n",
    "\n",
    "x_opt = 7/4"
   ]
  },
  {
   "cell_type": "code",
   "execution_count": 16,
   "metadata": {},
   "outputs": [
    {
     "name": "stdout",
     "output_type": "stream",
     "text": [
      "agent 1 converged on [39.48676147]\n",
      "agent 2 converged on [-118.61783543]\n",
      "agent 3 converged on [-20.38158971]\n",
      "history agent 1:  [array([[3.]]), array([[3.8]]), array([[3.61856]]), array([[2.29277389]]), array([[4.16526074]]), array([[0.52154741]]), array([[6.2117272]]), array([[-4.00705484]]), array([[13.77255783]]), array([[-18.40626739]])]\n"
     ]
    },
    {
     "data": {
      "image/png": "[encoded data removed]",
      "text/plain": [
       "<Figure size 640x480 with 1 Axes>"
      ]
     },
     "metadata": {},
     "output_type": "display_data"
    }
   ],
   "source": [
    "from matplotlib import pyplot as plt\n",
    "\n",
    "\n",
    "x1 = np.array(         # picking arbitrary initial parameters for the agents's states (2 parameters for a quadratic function) \n",
    "            [ [3.] ]\n",
    "            )\n",
    "\n",
    "x2 = np.array(        \n",
    "            [ [0.] ]\n",
    "            )\n",
    "\n",
    "x3 = np.array(        \n",
    "            [ [1.] ]\n",
    "            )\n",
    "\n",
    "\n",
    "z1 = np.array(         # picking arbitrary initial parameters for the agents's states (2 parameters for a quadratic function) \n",
    "            [ [0.] ]\n",
    "            )\n",
    "\n",
    "z2 = np.array(        \n",
    "            [ [0.] ]\n",
    "            )\n",
    "\n",
    "z3 = np.array(        \n",
    "            [ [0.] ]\n",
    "            )\n",
    "\n",
    "\n",
    "x = [x1, x2, x3]\n",
    "z = [z1, z2, z3]\n",
    "\n",
    "\n",
    "\n",
    "f1 = lambda x: np.squeeze((x[0]-5)**2 + 1)\n",
    "\n",
    "f2 = lambda x: np.squeeze(2*x[0]**2 + 3) \n",
    "\n",
    "f3 = lambda x: np.squeeze((x[0]-2)** 2 - 1)\n",
    "\n",
    "fs_private = [f1, f2, f3]\n",
    "\n",
    "\n",
    "history_agent1 = []\n",
    "history_agent2 = []\n",
    "history_agent3 = []\n",
    "\n",
    "\n",
    "\n",
    "n_iterations = 10\n",
    "\n",
    "\n",
    "for _ in range(n_iterations):\n",
    "\n",
    "    history_agent1.append(x[0])\n",
    "    history_agent2.append(x[1])\n",
    "    history_agent3.append(x[2])\n",
    "\n",
    "    x, z = step_v2(x, z, fs_private, alpha= alpha, beta= beta)\n",
    "\n",
    "\n",
    "print(f\"agent 1 converged on {x[0][-1]}\")\n",
    "print(f\"agent 2 converged on {x[1][-1]}\")\n",
    "print(f\"agent 3 converged on {x[2][-1]}\")\n",
    "\n",
    "\n",
    "plt.title(\"step_v2: Parameter updates\")\n",
    "\n",
    "\n",
    "\n",
    "print(\"history agent 1: \", history_agent1)\n",
    "\n",
    "plt.plot(range(len(history_agent1)), np.squeeze(history_agent1), label= \"$x_1$\" )\n",
    "plt.plot(range(len(history_agent2)), np.squeeze(history_agent2), label= \"$x_2$\" )\n",
    "plt.plot(range(len(history_agent3)), np.squeeze(history_agent3), label= \"$x_3$\" )\n",
    "\n",
    "plt.axhline(y= x_opt, linestyle='dashed', label= \"$x_{opt}$\")\n",
    "\n",
    "plt.xticks(range(len(history_agent1)))\n",
    "plt.legend()\n",
    "\n",
    "plt.show()\n",
    "\n",
    "\n",
    "# plt.title(\"Memory updates\")\n",
    "\n",
    "\n"
   ]
  },
  {
   "cell_type": "code",
   "execution_count": 15,
   "metadata": {},
   "outputs": [
    {
     "name": "stdout",
     "output_type": "stream",
     "text": [
      "agent 1 converged on [26.62886399]\n",
      "agent 2 converged on [-80.13872879]\n",
      "agent 3 converged on [-12.66633536]\n",
      "history agent 1:  [array([[3.]]), array([[3.2]]), array([[3.48608]]), array([[2.70681958]]), array([[3.30525092]]), array([[1.52059173]]), array([[4.25910067]]), array([[-1.3464013]]), array([[9.21262587]]), array([[-10.50936635]])]\n"
     ]
    },
    {
     "name": "stderr",
     "output_type": "stream",
     "text": [
      "/tmp/ipykernel_6426/1618579653.py:41: DeprecationWarning: Conversion of an array with ndim > 0 to a scalar is deprecated, and will error in future. Ensure you extract a single element from your array before performing this operation. (Deprecated NumPy 1.25.)\n",
      "  x = [float(x_i) for x_i in x]\n"
     ]
    },
    {
     "data": {
      "image/png": "[encoded data removed]",
      "text/plain": [
       "<Figure size 640x480 with 1 Axes>"
      ]
     },
     "metadata": {},
     "output_type": "display_data"
    }
   ],
   "source": [
    "from matplotlib import pyplot as plt\n",
    "\n",
    "\n",
    "x1 = np.array(         # picking arbitrary initial parameters for the agents's states (2 parameters for a quadratic function) \n",
    "            [ [3.] ]\n",
    "            )\n",
    "\n",
    "x2 = np.array(        \n",
    "            [ [0.] ]\n",
    "            )\n",
    "\n",
    "x3 = np.array(        \n",
    "            [ [1.] ]\n",
    "            )\n",
    "\n",
    "\n",
    "z1 = np.array(         # picking arbitrary initial parameters for the agents's states (2 parameters for a quadratic function) \n",
    "            [ [0.] ]\n",
    "            )\n",
    "\n",
    "z2 = np.array(        \n",
    "            [ [0.] ]\n",
    "            )\n",
    "\n",
    "z3 = np.array(        \n",
    "            [ [0.] ]\n",
    "            )\n",
    "\n",
    "\n",
    "x = [x1, x2, x3]\n",
    "z = [z1, z2, z3]\n",
    "\n",
    "\n",
    "\n",
    "f1 = lambda x: np.squeeze((x[0]-5)**2 + 1)\n",
    "\n",
    "f2 = lambda x: np.squeeze(2*x[0]**2 + 3) \n",
    "\n",
    "f3 = lambda x: np.squeeze((x[0]-2)** 2 - 1)\n",
    "\n",
    "fs_private = [f1, f2, f3]\n",
    "\n",
    "\n",
    "history_agent1 = []\n",
    "history_agent2 = []\n",
    "history_agent3 = []\n",
    "\n",
    "\n",
    "\n",
    "n_iterations = 10\n",
    "\n",
    "\n",
    "for _ in range(n_iterations):\n",
    "\n",
    "    history_agent1.append(x[0])\n",
    "    history_agent2.append(x[1])\n",
    "    history_agent3.append(x[2])\n",
    "\n",
    "    x, z = step(x, z, fs_private, alpha= alpha, beta= beta)\n",
    "\n",
    "\n",
    "print(f\"agent 1 converged on {x[0][-1]}\")\n",
    "print(f\"agent 2 converged on {x[1][-1]}\")\n",
    "print(f\"agent 3 converged on {x[2][-1]}\")\n",
    "\n",
    "\n",
    "plt.title(\"step: Parameter updates\")\n",
    "\n",
    "\n",
    "\n",
    "print(\"history agent 1: \", history_agent1)\n",
    "\n",
    "plt.plot(range(len(history_agent1)), np.squeeze(history_agent1), label= \"$x_1$\" )\n",
    "plt.plot(range(len(history_agent2)), np.squeeze(history_agent2), label= \"$x_2$\" )\n",
    "plt.plot(range(len(history_agent3)), np.squeeze(history_agent3), label= \"$x_3$\" )\n",
    "\n",
    "plt.axhline(y= x_opt, linestyle='dashed', label= \"$x_{opt}$\")\n",
    "\n",
    "plt.xticks(range(len(history_agent1)))\n",
    "plt.legend()\n",
    "\n",
    "plt.show()\n",
    "\n",
    "\n",
    "# plt.title(\"Memory updates\")\n",
    "\n",
    "\n"
   ]
  },
  {
   "cell_type": "code",
   "execution_count": 14,
   "metadata": {},
   "outputs": [
    {
     "name": "stdout",
     "output_type": "stream",
     "text": [
      "10\n"
     ]
    }
   ],
   "source": [
    "print(len(history_agent1))"
   ]
  }
 ],
 "metadata": {
  "kernelspec": {
   "display_name": "Python 3",
   "language": "python",
   "name": "python3"
  },
  "language_info": {
   "codemirror_mode": {
    "name": "ipython",
    "version": 3
   },
   "file_extension": ".py",
   "mimetype": "text/x-python",
   "name": "python",
   "nbconvert_exporter": "python",
   "pygments_lexer": "ipython3",
   "version": "3.10.12"
  }
 },
 "nbformat": 4,
 "nbformat_minor": 2
}
