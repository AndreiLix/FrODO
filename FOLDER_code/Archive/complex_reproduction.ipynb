{
 "cells": [
  {
   "cell_type": "markdown",
   "metadata": {},
   "source": [
    "# Problem statement\n",
    "\n",
    "We have a network of 4 agents that each have an objective function $f_i(x)$. \n",
    "\n",
    "The **goal** is to \n",
    "\n",
    "$$\\begin{array}{rc}\\operatorname{minimize} & \\sum_{i=1}^m f_i(x) \\\\ \\text { subject to } & x \\in \\mathbb{R}^n,\\end{array} \\quad \\quad\n",
    "(1)$$\n",
    "\n",
    "Each privat objective $f_i$ is defined below"
   ]
  },
  {
   "cell_type": "markdown",
   "metadata": {},
   "source": [
    "## Objective functions"
   ]
  },
  {
   "cell_type": "markdown",
   "metadata": {},
   "source": [
    "### Global objective\n",
    "Represented by eq. 1."
   ]
  },
  {
   "cell_type": "markdown",
   "metadata": {},
   "source": [
    "### Private Objectives $f_1, ..., f_4$\n",
    "Convex quadratic functions of the form: $f_i(x) = x^TP_ix+b_ix+c$"
   ]
  },
  {
   "cell_type": "markdown",
   "metadata": {},
   "source": [
    "## Assumptions / Opportunities\n",
    "        \n",
    "- $\\beta$, $\\alpha$, $a_{ij}$ = ***fixed*** parameters (arbitrarily) chosen before optimization procedure\n",
    "    - can we make (some of) them trainable parameters?\n",
    "\n",
    "- we provide the subgradient in the optimization process \n",
    "    ($g_i(t)$ = subgradient of function f_i at point x_i(t))\n",
    "    - I took the liberty to provide it using ====== method.\n",
    "        - are there better methods of providing the gradient?"
   ]
  },
  {
   "cell_type": "code",
   "execution_count": 5,
   "metadata": {},
   "outputs": [],
   "source": [
    "import numpy as np"
   ]
  },
  {
   "cell_type": "code",
   "execution_count": 42,
   "metadata": {},
   "outputs": [
    {
     "name": "stdout",
     "output_type": "stream",
     "text": [
      "['', '', '']\n",
      "<class 'str'>\n"
     ]
    }
   ],
   "source": [
    "\n",
    "l = 3*[_]\n",
    "print(l)\n",
    "print(type(l[0]))"
   ]
  },
  {
   "cell_type": "code",
   "execution_count": 28,
   "metadata": {},
   "outputs": [
    {
     "name": "stdout",
     "output_type": "stream",
     "text": [
      "[array([1, 2, 3]), array([1, 2, 3]), array([1, 2, 3]), array([1, 2, 3]), array([1, 2, 3])]\n"
     ]
    }
   ],
   "source": [
    "your_array = np.array([1, 2, 3])\n",
    "\n",
    "# Number of times to repeat the array\n",
    "n = 5\n",
    "\n",
    "# Create the list with separate copies of the array\n",
    "your_list = [np.copy(your_array) for _ in range(n)]\n",
    "\n",
    "# Display the result\n",
    "print(your_list)"
   ]
  },
  {
   "cell_type": "code",
   "execution_count": 9,
   "metadata": {},
   "outputs": [
    {
     "name": "stdout",
     "output_type": "stream",
     "text": [
      "Df array:\n",
      "[[0]\n",
      " [0]\n",
      " [0]]\n",
      "3\n",
      "0.001\n"
     ]
    }
   ],
   "source": [
    "n = 3\n",
    "\n",
    "# Create the array with n rows of [0]\n",
    "Df = np.zeros((n, 1), dtype=int)\n",
    "\n",
    "# Display the result\n",
    "print('Df array:')\n",
    "print(Df)\n",
    "\n",
    "print(len(Df))\n",
    "\n",
    "print(1e-3)"
   ]
  },
  {
   "cell_type": "markdown",
   "metadata": {},
   "source": [
    "### Initializing network"
   ]
  },
  {
   "cell_type": "code",
   "execution_count": 17,
   "metadata": {},
   "outputs": [],
   "source": [
    "\n",
    "class Network():\n",
    "\n",
    "    def __init__(self, n_agents, x, z):\n",
    "        # self.initial_x = np.array(         # picking arbitrary initial parameters for the agents's states (replace with random later) (2 parameters for a quadratic function) \n",
    "        #                  [ [0],\n",
    "        #                    [0] ]\n",
    "        #                    )\n",
    "                           \n",
    "        # self.initial_z = np.array(         # picking arbitrary initial auxiliary states z_i for the agents's states (replace with random later) (2 parameters for a quadratic function) \n",
    "        #             [ [0],\n",
    "        #             [0] ]\n",
    "        #             )\n",
    "        \n",
    "        self.fs_private = []      # list of agents's private objective functions\n",
    "        \n",
    "        # self.n_agents = len(self.fs_private)\n",
    "\n",
    "        # self.x = self.n_agents * [np.copy(self.initial_x)]            # list: agents's states\n",
    "        # self.z = self.n_agents * [np.copy(self.initial_z)]            # list: agents's auxiliary states\n",
    "\n",
    "        self.n_agents = n_agents    \n",
    "\n",
    "        self.x = x\n",
    "        self.z = z \n",
    "\n",
    "        self.alpha = 3               # fixed hyperparameters\n",
    "        self.beta = 0.2\n",
    "        self.a = 1\n",
    "\n",
    "    \n",
    "\n",
    "    \n",
    "\n",
    "\n",
    "    def f_global(self, x = None, fs_private= None):    # global objective function\n",
    "        \"\"\"    \n",
    "        Returns\n",
    "        -------\n",
    "        output: float\n",
    "            The output of our global objective function for the current state of the agents.\n",
    "                The project is to make this oujtpus as low as possible.\n",
    "        \n",
    "        \"\"\"\n",
    "\n",
    "        if x == None:\n",
    "            x = self.x\n",
    "\n",
    "        if fs_private == None:\n",
    "            fs_private = self.fs_private\n",
    "\n",
    "        private_errors = [ f_i(x_i) for f_i, x_i in zip(fs_private, x) ]\n",
    "\n",
    "        print(\"Private Outputs:\",  private_errors)\n",
    "\n",
    "        global_error = sum(private_errors)\n",
    "\n",
    "        return global_error\n",
    "    \n",
    "\n",
    "    def get_subgradientAtPoint(self, f, x, delta= 1e-2):\n",
    "\n",
    "        \"\"\"\n",
    "        Parameters\n",
    "        -----------\n",
    "        f: function\n",
    "            An arbitrary function.\n",
    "        x: array-like\n",
    "            An array with the (multi-dimensional) point for which the subgradient of f is desired.\n",
    "        delta: float\n",
    "            Represents an infinitesimally small step along an axis.\n",
    "        \n",
    "        Returns\n",
    "        -------\n",
    "        \n",
    "\n",
    "        float: value of the subgradient (directional derivative) of f at point x.             \n",
    "        \"\"\"\n",
    "\n",
    "        # Direfctional derivative bit - doesn't work in the \n",
    "\n",
    "        # # Computing the directional derivative of f w.r.t. x = (x_1, ..., x_n) \n",
    "            \n",
    "        # Df = len(x) * [0]    # list with the partial deriatives of f w.r.t. x_1, ..., x_n\n",
    "\n",
    "        # directional_d = 0             # directional derivative\n",
    "\n",
    "        # for i in range(len(x)):\n",
    "\n",
    "        #     x_aux = np.copy(x)\n",
    "\n",
    "        #     print(f\"function = {f}, x_aux: at variable {i+1} \", x_aux)\n",
    "        #     x_aux[i] += delta\n",
    "        #     print(f\"x_aux+ delta at variable {i+1}:\", x_aux)\n",
    "\n",
    "        #     Df[i] = f(x_aux) / delta\n",
    "        #     print(\"Df:\", Df)\n",
    "        \n",
    "        # directional_d = [sum(Df)]\n",
    "\n",
    "        # return directional_d\n",
    "    \n",
    "\n",
    "        # Depricated------------------ -> try putting a \"-\" in front of g at step 2 of the optimization process\n",
    "\n",
    "\n",
    "        if type(x[0]) is not float:\n",
    "            x = [float(x_i) for x_i in x]\n",
    "\n",
    "\n",
    "        Df = np.zeros((len(x), 1), dtype=int)    # list with the partial deriatives of f w.r.t. x_1, ..., x_n\n",
    "\n",
    "        for i in range(len(x)):\n",
    "\n",
    "            x_aux = np.copy(x)\n",
    "\n",
    "            print(f\"function = {f}, x_aux: at variable {i+1} \", x_aux)\n",
    "            \n",
    "            x_aux[i] = x[i] + delta\n",
    "            print(f\"function = {f}, x_aux: at variable {i+1} \", x_aux)\n",
    "            print(f\"x_aux+ delta at variable {i+1}:\", x_aux)\n",
    "\n",
    "            Df[i] = (f(x_aux) - f(x)) / delta\n",
    "            print(\"Df:\", Df)\n",
    "        \n",
    "        return Df\n",
    "        #-------------------------------\n",
    "\n",
    "        \n",
    "\n",
    "\n",
    "\n",
    "\n",
    "\n",
    "    def step(self): # in computation stateps, x multiplies and spreads into a single one\n",
    "        \"\"\"\n",
    "        Changes the states of our agents based on a step in the optimization process.\n",
    "\n",
    "        \"\"\"\n",
    "\n",
    "        #------------- first stage -----------------------\n",
    "        \n",
    "\n",
    "        # nodes exchanges states x_i and compute auxiliary states z_i.\n",
    "\n",
    "        for i in range(self.n_agents):\n",
    "            \n",
    "            # Test the following in simple env\n",
    "            self.z[i] = self.z[i] + self.beta*sum( [ self.a*(self.x[i] - self.x[j]) for j in range(self.n_agents) if j!= i ]  )\n",
    "\n",
    "        \n",
    "        #------------- second stage --------------------  \n",
    "        \n",
    "        # nodes exchange auxiliary states z_i and update states x_i.\n",
    "        \n",
    "        for i in range(self.n_agents):\n",
    "            \n",
    "            # Test the following in simple env\n",
    "            self.x[i] = self.x[i] + self.beta*sum( [ self.a*(self.x[j] - self.x[i]) for j in range(self.n_agents) if j!= i ]  ) \\\n",
    "                                    + self.beta*sum( [ self.a*(self.z[j] - self.z[i]) for j in range(self.n_agents) if j!= i ] \\\n",
    "                                        - self.beta * self.alpha * self.get_subgradientAtPoint(self.fs_private[i], self.x[i]) )\n",
    "            \n",
    "            \n",
    "        \n",
    "\n",
    "\n"
   ]
  },
  {
   "cell_type": "code",
   "execution_count": 18,
   "metadata": {},
   "outputs": [],
   "source": [
    "N_AGENTS = 4          # the number of agents\n",
    "N_PARAMS = 2       # the number of parameters of each private objective function\n",
    "\n",
    "P = np.array(\n",
    "    [ [[0.2, 0.1],\n",
    "       [0.1, 0.2]],\n",
    "\n",
    "      [[0.4, 0.1],\n",
    "       [0.2, 0.4]],\n",
    "\n",
    "      [[0.3, 0.1],\n",
    "       [0.1, 0.2]],\n",
    "\n",
    "\n",
    "      [[0.5, 0.1],\n",
    "       [0.1, 0.2]],   \n",
    "         ]\n",
    ")\n",
    "\n",
    "b = np.array(\n",
    "    [ [[1],\n",
    "       [8]],\n",
    "\n",
    "      [[1],\n",
    "       [1]],\n",
    "\n",
    "      [[3],\n",
    "       [1]],\n",
    "\n",
    "      [[5],\n",
    "       [1]],   \n",
    "       ]\n",
    ")\n",
    "c = np.linspace(start= 0, stop= 1, num= N_AGENTS)      # c_i are chosen uniformly from [0, 1]\n",
    "\n"
   ]
  },
  {
   "cell_type": "code",
   "execution_count": 19,
   "metadata": {},
   "outputs": [
    {
     "name": "stdout",
     "output_type": "stream",
     "text": [
      "number of private functions:  4\n",
      "4\n",
      "4\n",
      "[array([[0.],\n",
      "       [0.]]), array([[0.],\n",
      "       [0.]]), array([[0.],\n",
      "       [0.]]), array([[0.],\n",
      "       [0.]])]\n",
      "output of agent 1:  1.0\n",
      "output of agent 2:  1.0\n",
      "output of agent 3:  1.0\n",
      "output of agent 4:  1.0\n"
     ]
    }
   ],
   "source": [
    "\n",
    "# TODO: set number of agents\n",
    "n_agents = 4\n",
    "\n",
    "initial_x = np.array(         # picking arbitrary initial parameters for the agents's states (2 parameters for a quadratic function) \n",
    "                 [ [0.],\n",
    "                   [0.] ]\n",
    "                   )\n",
    "                  \n",
    "initial_z = np.array(         # picking arbitrary initial auxiliary states z_i for the agents's states (2 parameters for a quadratic function) \n",
    "            [ [0.],\n",
    "              [0.] ]\n",
    "            )\n",
    "\n",
    "\n",
    "x = n_agents * [np.copy(initial_x)]       # list: agents's states\n",
    "z = n_agents * [np.copy(initial_z)]       # list: agents's auxiliary states\n",
    "\n",
    "\n",
    "\n",
    "network = Network(n_agents= n_agents, x= x, z= z)\n",
    "\n",
    "# add agents's private objectives to network\n",
    "for i in range(n_agents):\n",
    "  network.fs_private.append(lambda x: np.squeeze(x.T @ P[i] @ x + b[i].T @ x + c[i]))\n",
    "\n",
    "print(\"number of private functions: \", len(network.fs_private))\n",
    "\n",
    "print(len(network.fs_private))\n",
    "\n",
    "\n",
    "print(network.n_agents)\n",
    "\n",
    "print(network.x)\n",
    "\n",
    "\n",
    "\n",
    "print(\"output of agent 1: \", network.fs_private[0](network.x[0]))\n",
    "print(\"output of agent 2: \", network.fs_private[1](network.x[1]))\n",
    "print(\"output of agent 3: \", network.fs_private[2](network.x[2]))\n",
    "print(\"output of agent 4: \", network.fs_private[3](network.x[3]))"
   ]
  },
  {
   "cell_type": "code",
   "execution_count": 20,
   "metadata": {},
   "outputs": [
    {
     "name": "stdout",
     "output_type": "stream",
     "text": [
      "Private Outputs: [array(1.), array(1.), array(1.), array(1.)]\n",
      "Output for global objective 4.0\n",
      "state agent 1:  [[0.]\n",
      " [0.]]\n",
      "private function agent 1:  <function <lambda> at 0x7ff9350adea0>\n"
     ]
    }
   ],
   "source": [
    "print(\"Output for global objective\", network.f_global())\n",
    "\n",
    "print(\"state agent 1: \", network.x[0])\n",
    "print(\"private function agent 1: \", network.fs_private[0])"
   ]
  },
  {
   "cell_type": "code",
   "execution_count": 21,
   "metadata": {},
   "outputs": [
    {
     "name": "stdout",
     "output_type": "stream",
     "text": [
      "Private Outputs: [array(1.), array(1.), array(1.), array(1.)]\n",
      "function = <function <lambda> at 0x7ff9350adea0>, x_aux: at variable 1  [0. 0.]\n",
      "function = <function <lambda> at 0x7ff9350adea0>, x_aux: at variable 1  [0.01 0.  ]\n",
      "x_aux+ delta at variable 1: [0.01 0.  ]\n"
     ]
    },
    {
     "name": "stderr",
     "output_type": "stream",
     "text": [
      "/tmp/ipykernel_5304/874492157.py:107: DeprecationWarning: Conversion of an array with ndim > 0 to a scalar is deprecated, and will error in future. Ensure you extract a single element from your array before performing this operation. (Deprecated NumPy 1.25.)\n",
      "  x = [float(x_i) for x_i in x]\n"
     ]
    },
    {
     "ename": "AttributeError",
     "evalue": "'list' object has no attribute 'T'",
     "output_type": "error",
     "traceback": [
      "\u001b[0;31m---------------------------------------------------------------------------\u001b[0m",
      "\u001b[0;31mAttributeError\u001b[0m                            Traceback (most recent call last)",
      "Cell \u001b[0;32mIn [21], line 15\u001b[0m\n\u001b[1;32m     12\u001b[0m     history_agent1_x2\u001b[38;5;241m.\u001b[39mappend(network\u001b[38;5;241m.\u001b[39mx[\u001b[38;5;241m0\u001b[39m][\u001b[38;5;241m1\u001b[39m])\n\u001b[1;32m     13\u001b[0m     history_f_global\u001b[38;5;241m.\u001b[39mappend(network\u001b[38;5;241m.\u001b[39mf_global())\n\u001b[0;32m---> 15\u001b[0m     \u001b[43mnetwork\u001b[49m\u001b[38;5;241;43m.\u001b[39;49m\u001b[43mstep\u001b[49m\u001b[43m(\u001b[49m\u001b[43m)\u001b[49m\n\u001b[1;32m     19\u001b[0m history_agent1_x1 \u001b[38;5;241m=\u001b[39m np\u001b[38;5;241m.\u001b[39msqueeze( history_agent1_x1) \n\u001b[1;32m     20\u001b[0m history_agent1_x2 \u001b[38;5;241m=\u001b[39m np\u001b[38;5;241m.\u001b[39msqueeze( history_agent1_x2)\n",
      "Cell \u001b[0;32mIn [17], line 160\u001b[0m, in \u001b[0;36mNetwork.step\u001b[0;34m(self)\u001b[0m\n\u001b[1;32m    151\u001b[0m \u001b[38;5;66;03m#------------- second stage --------------------  \u001b[39;00m\n\u001b[1;32m    152\u001b[0m \n\u001b[1;32m    153\u001b[0m \u001b[38;5;66;03m# nodes exchange auxiliary states z_i and update states x_i.\u001b[39;00m\n\u001b[1;32m    155\u001b[0m \u001b[38;5;28;01mfor\u001b[39;00m i \u001b[38;5;129;01min\u001b[39;00m \u001b[38;5;28mrange\u001b[39m(\u001b[38;5;28mself\u001b[39m\u001b[38;5;241m.\u001b[39mn_agents):\n\u001b[1;32m    156\u001b[0m     \n\u001b[1;32m    157\u001b[0m     \u001b[38;5;66;03m# Test the following in simple env\u001b[39;00m\n\u001b[1;32m    158\u001b[0m     \u001b[38;5;28mself\u001b[39m\u001b[38;5;241m.\u001b[39mx[i] \u001b[38;5;241m=\u001b[39m \u001b[38;5;28mself\u001b[39m\u001b[38;5;241m.\u001b[39mx[i] \u001b[38;5;241m+\u001b[39m \u001b[38;5;28mself\u001b[39m\u001b[38;5;241m.\u001b[39mbeta\u001b[38;5;241m*\u001b[39m\u001b[38;5;28msum\u001b[39m( [ \u001b[38;5;28mself\u001b[39m\u001b[38;5;241m.\u001b[39ma\u001b[38;5;241m*\u001b[39m(\u001b[38;5;28mself\u001b[39m\u001b[38;5;241m.\u001b[39mx[j] \u001b[38;5;241m-\u001b[39m \u001b[38;5;28mself\u001b[39m\u001b[38;5;241m.\u001b[39mx[i]) \u001b[38;5;28;01mfor\u001b[39;00m j \u001b[38;5;129;01min\u001b[39;00m \u001b[38;5;28mrange\u001b[39m(\u001b[38;5;28mself\u001b[39m\u001b[38;5;241m.\u001b[39mn_agents) \u001b[38;5;28;01mif\u001b[39;00m j\u001b[38;5;241m!=\u001b[39m i ]  ) \\\n\u001b[1;32m    159\u001b[0m                             \u001b[38;5;241m+\u001b[39m \u001b[38;5;28mself\u001b[39m\u001b[38;5;241m.\u001b[39mbeta\u001b[38;5;241m*\u001b[39m\u001b[38;5;28msum\u001b[39m( [ \u001b[38;5;28mself\u001b[39m\u001b[38;5;241m.\u001b[39ma\u001b[38;5;241m*\u001b[39m(\u001b[38;5;28mself\u001b[39m\u001b[38;5;241m.\u001b[39mz[j] \u001b[38;5;241m-\u001b[39m \u001b[38;5;28mself\u001b[39m\u001b[38;5;241m.\u001b[39mz[i]) \u001b[38;5;28;01mfor\u001b[39;00m j \u001b[38;5;129;01min\u001b[39;00m \u001b[38;5;28mrange\u001b[39m(\u001b[38;5;28mself\u001b[39m\u001b[38;5;241m.\u001b[39mn_agents) \u001b[38;5;28;01mif\u001b[39;00m j\u001b[38;5;241m!=\u001b[39m i ] \\\n\u001b[0;32m--> 160\u001b[0m                                 \u001b[38;5;241m-\u001b[39m \u001b[38;5;28mself\u001b[39m\u001b[38;5;241m.\u001b[39mbeta \u001b[38;5;241m*\u001b[39m \u001b[38;5;28mself\u001b[39m\u001b[38;5;241m.\u001b[39malpha \u001b[38;5;241m*\u001b[39m \u001b[38;5;28;43mself\u001b[39;49m\u001b[38;5;241;43m.\u001b[39;49m\u001b[43mget_subgradientAtPoint\u001b[49m\u001b[43m(\u001b[49m\u001b[38;5;28;43mself\u001b[39;49m\u001b[38;5;241;43m.\u001b[39;49m\u001b[43mfs_private\u001b[49m\u001b[43m[\u001b[49m\u001b[43mi\u001b[49m\u001b[43m]\u001b[49m\u001b[43m,\u001b[49m\u001b[43m \u001b[49m\u001b[38;5;28;43mself\u001b[39;49m\u001b[38;5;241;43m.\u001b[39;49m\u001b[43mx\u001b[49m\u001b[43m[\u001b[49m\u001b[43mi\u001b[49m\u001b[43m]\u001b[49m\u001b[43m)\u001b[49m )\n",
      "Cell \u001b[0;32mIn [17], line 122\u001b[0m, in \u001b[0;36mNetwork.get_subgradientAtPoint\u001b[0;34m(self, f, x, delta)\u001b[0m\n\u001b[1;32m    119\u001b[0m     \u001b[38;5;28mprint\u001b[39m(\u001b[38;5;124mf\u001b[39m\u001b[38;5;124m\"\u001b[39m\u001b[38;5;124mfunction = \u001b[39m\u001b[38;5;132;01m{\u001b[39;00mf\u001b[38;5;132;01m}\u001b[39;00m\u001b[38;5;124m, x_aux: at variable \u001b[39m\u001b[38;5;132;01m{\u001b[39;00mi\u001b[38;5;241m+\u001b[39m\u001b[38;5;241m1\u001b[39m\u001b[38;5;132;01m}\u001b[39;00m\u001b[38;5;124m \u001b[39m\u001b[38;5;124m\"\u001b[39m, x_aux)\n\u001b[1;32m    120\u001b[0m     \u001b[38;5;28mprint\u001b[39m(\u001b[38;5;124mf\u001b[39m\u001b[38;5;124m\"\u001b[39m\u001b[38;5;124mx_aux+ delta at variable \u001b[39m\u001b[38;5;132;01m{\u001b[39;00mi\u001b[38;5;241m+\u001b[39m\u001b[38;5;241m1\u001b[39m\u001b[38;5;132;01m}\u001b[39;00m\u001b[38;5;124m:\u001b[39m\u001b[38;5;124m\"\u001b[39m, x_aux)\n\u001b[0;32m--> 122\u001b[0m     Df[i] \u001b[38;5;241m=\u001b[39m (f(x_aux) \u001b[38;5;241m-\u001b[39m \u001b[43mf\u001b[49m\u001b[43m(\u001b[49m\u001b[43mx\u001b[49m\u001b[43m)\u001b[49m) \u001b[38;5;241m/\u001b[39m delta\n\u001b[1;32m    123\u001b[0m     \u001b[38;5;28mprint\u001b[39m(\u001b[38;5;124m\"\u001b[39m\u001b[38;5;124mDf:\u001b[39m\u001b[38;5;124m\"\u001b[39m, Df)\n\u001b[1;32m    125\u001b[0m \u001b[38;5;28;01mreturn\u001b[39;00m Df\n",
      "Cell \u001b[0;32mIn [19], line 24\u001b[0m, in \u001b[0;36m<lambda>\u001b[0;34m(x)\u001b[0m\n\u001b[1;32m     22\u001b[0m \u001b[38;5;66;03m# add agents's private objectives to network\u001b[39;00m\n\u001b[1;32m     23\u001b[0m \u001b[38;5;28;01mfor\u001b[39;00m i \u001b[38;5;129;01min\u001b[39;00m \u001b[38;5;28mrange\u001b[39m(n_agents):\n\u001b[0;32m---> 24\u001b[0m   network\u001b[38;5;241m.\u001b[39mfs_private\u001b[38;5;241m.\u001b[39mappend(\u001b[38;5;28;01mlambda\u001b[39;00m x: np\u001b[38;5;241m.\u001b[39msqueeze(\u001b[43mx\u001b[49m\u001b[38;5;241;43m.\u001b[39;49m\u001b[43mT\u001b[49m \u001b[38;5;241m@\u001b[39m P[i] \u001b[38;5;241m@\u001b[39m x \u001b[38;5;241m+\u001b[39m b[i]\u001b[38;5;241m.\u001b[39mT \u001b[38;5;241m@\u001b[39m x \u001b[38;5;241m+\u001b[39m c[i]))\n\u001b[1;32m     26\u001b[0m \u001b[38;5;28mprint\u001b[39m(\u001b[38;5;124m\"\u001b[39m\u001b[38;5;124mnumber of private functions: \u001b[39m\u001b[38;5;124m\"\u001b[39m, \u001b[38;5;28mlen\u001b[39m(network\u001b[38;5;241m.\u001b[39mfs_private))\n\u001b[1;32m     28\u001b[0m \u001b[38;5;28mprint\u001b[39m(\u001b[38;5;28mlen\u001b[39m(network\u001b[38;5;241m.\u001b[39mfs_private))\n",
      "\u001b[0;31mAttributeError\u001b[0m: 'list' object has no attribute 'T'"
     ]
    }
   ],
   "source": [
    "# TODO: pick number of iterations\n",
    "n_iterations = 100\n",
    "\n",
    "import matplotlib.pyplot as plt\n",
    "\n",
    "history_agent1_x1 = []\n",
    "history_agent1_x2 = []\n",
    "history_f_global = []\n",
    "\n",
    "for _ in range(n_iterations):\n",
    "    history_agent1_x1.append(network.x[0][0])\n",
    "    history_agent1_x2.append(network.x[0][1])\n",
    "    history_f_global.append(network.f_global())\n",
    "\n",
    "    network.step()\n",
    "\n",
    "\n",
    "\n",
    "history_agent1_x1 = np.squeeze( history_agent1_x1) \n",
    "history_agent1_x2 = np.squeeze( history_agent1_x2)\n",
    "history_f_global = np.squeeze( history_f_global )\n",
    "\n",
    "plt.plot(range(len(history_f_global)), history_f_global)\n",
    "plt.title(\"Output Global Ojective\")\n",
    "plt.show()\n",
    "\n",
    "\n",
    "plt.title(\"Parameter updates\")\n",
    "plt.plot(range(len(history_agent1_x1)), history_agent1_x1 )\n",
    "plt.plot(range(len(history_agent1_x2)), history_agent1_x2 )\n",
    "\n",
    "\n",
    "\n"
   ]
  },
  {
   "cell_type": "code",
   "execution_count": 10,
   "metadata": {},
   "outputs": [
    {
     "name": "stdout",
     "output_type": "stream",
     "text": [
      "[0]\n"
     ]
    },
    {
     "data": {
      "image/png": "[encoded data removed]",
      "text/plain": [
       "<Figure size 640x480 with 1 Axes>"
      ]
     },
     "metadata": {},
     "output_type": "display_data"
    },
    {
     "data": {
      "text/plain": [
       "[<matplotlib.lines.Line2D at 0x7ff9372e8c10>]"
      ]
     },
     "execution_count": 10,
     "metadata": {},
     "output_type": "execute_result"
    },
    {
     "data": {
      "image/png": "[encoded data removed]",
      "text/plain": [
       "<Figure size 640x480 with 1 Axes>"
      ]
     },
     "metadata": {},
     "output_type": "display_data"
    }
   ],
   "source": [
    "print(history_f_global)\n",
    "\n",
    "plt.plot(range(len(history_f_global)), history_f_global)\n",
    "plt.title(\"Output Global Ojective\")\n",
    "plt.show()\n",
    "\n",
    "\n",
    "plt.title(\"Parameter updates\")\n",
    "plt.plot(range(len(history_agent1_x1)), history_agent1_x1 )\n",
    "plt.plot(range(len(history_agent1_x2)), history_agent1_x2 )\n",
    "\n"
   ]
  },
  {
   "cell_type": "code",
   "execution_count": 99,
   "metadata": {},
   "outputs": [
    {
     "ename": "TypeError",
     "evalue": "float() argument must be a string or a real number, not 'method'",
     "output_type": "error",
     "traceback": [
      "\u001b[0;31m---------------------------------------------------------------------------\u001b[0m",
      "\u001b[0;31mTypeError\u001b[0m                                 Traceback (most recent call last)",
      "Cell \u001b[0;32mIn [99], line 1\u001b[0m\n\u001b[0;32m----> 1\u001b[0m \u001b[43mplt\u001b[49m\u001b[38;5;241;43m.\u001b[39;49m\u001b[43mplot\u001b[49m\u001b[43m(\u001b[49m\u001b[38;5;28;43mrange\u001b[39;49m\u001b[43m(\u001b[49m\u001b[38;5;28;43mlen\u001b[39;49m\u001b[43m(\u001b[49m\u001b[43mhistory_f_global\u001b[49m\u001b[43m)\u001b[49m\u001b[43m)\u001b[49m\u001b[43m,\u001b[49m\u001b[43m \u001b[49m\u001b[43mhistory_f_global\u001b[49m\u001b[43m)\u001b[49m\n\u001b[1;32m      2\u001b[0m plt\u001b[38;5;241m.\u001b[39mtitle(\u001b[38;5;124m\"\u001b[39m\u001b[38;5;124mOutput Global Ojective\u001b[39m\u001b[38;5;124m\"\u001b[39m)\n\u001b[1;32m      3\u001b[0m plt\u001b[38;5;241m.\u001b[39mshow()\n",
      "File \u001b[0;32m~/.local/lib/python3.10/site-packages/matplotlib/pyplot.py:2740\u001b[0m, in \u001b[0;36mplot\u001b[0;34m(scalex, scaley, data, *args, **kwargs)\u001b[0m\n\u001b[1;32m   2738\u001b[0m \u001b[38;5;129m@_copy_docstring_and_deprecators\u001b[39m(Axes\u001b[38;5;241m.\u001b[39mplot)\n\u001b[1;32m   2739\u001b[0m \u001b[38;5;28;01mdef\u001b[39;00m \u001b[38;5;21mplot\u001b[39m(\u001b[38;5;241m*\u001b[39margs, scalex\u001b[38;5;241m=\u001b[39m\u001b[38;5;28;01mTrue\u001b[39;00m, scaley\u001b[38;5;241m=\u001b[39m\u001b[38;5;28;01mTrue\u001b[39;00m, data\u001b[38;5;241m=\u001b[39m\u001b[38;5;28;01mNone\u001b[39;00m, \u001b[38;5;241m*\u001b[39m\u001b[38;5;241m*\u001b[39mkwargs):\n\u001b[0;32m-> 2740\u001b[0m     \u001b[38;5;28;01mreturn\u001b[39;00m \u001b[43mgca\u001b[49m\u001b[43m(\u001b[49m\u001b[43m)\u001b[49m\u001b[38;5;241;43m.\u001b[39;49m\u001b[43mplot\u001b[49m\u001b[43m(\u001b[49m\n\u001b[1;32m   2741\u001b[0m \u001b[43m        \u001b[49m\u001b[38;5;241;43m*\u001b[39;49m\u001b[43margs\u001b[49m\u001b[43m,\u001b[49m\u001b[43m \u001b[49m\u001b[43mscalex\u001b[49m\u001b[38;5;241;43m=\u001b[39;49m\u001b[43mscalex\u001b[49m\u001b[43m,\u001b[49m\u001b[43m \u001b[49m\u001b[43mscaley\u001b[49m\u001b[38;5;241;43m=\u001b[39;49m\u001b[43mscaley\u001b[49m\u001b[43m,\u001b[49m\n\u001b[1;32m   2742\u001b[0m \u001b[43m        \u001b[49m\u001b[38;5;241;43m*\u001b[39;49m\u001b[38;5;241;43m*\u001b[39;49m\u001b[43m(\u001b[49m\u001b[43m{\u001b[49m\u001b[38;5;124;43m\"\u001b[39;49m\u001b[38;5;124;43mdata\u001b[39;49m\u001b[38;5;124;43m\"\u001b[39;49m\u001b[43m:\u001b[49m\u001b[43m \u001b[49m\u001b[43mdata\u001b[49m\u001b[43m}\u001b[49m\u001b[43m \u001b[49m\u001b[38;5;28;43;01mif\u001b[39;49;00m\u001b[43m \u001b[49m\u001b[43mdata\u001b[49m\u001b[43m \u001b[49m\u001b[38;5;129;43;01mis\u001b[39;49;00m\u001b[43m \u001b[49m\u001b[38;5;129;43;01mnot\u001b[39;49;00m\u001b[43m \u001b[49m\u001b[38;5;28;43;01mNone\u001b[39;49;00m\u001b[43m \u001b[49m\u001b[38;5;28;43;01melse\u001b[39;49;00m\u001b[43m \u001b[49m\u001b[43m{\u001b[49m\u001b[43m}\u001b[49m\u001b[43m)\u001b[49m\u001b[43m,\u001b[49m\u001b[43m \u001b[49m\u001b[38;5;241;43m*\u001b[39;49m\u001b[38;5;241;43m*\u001b[39;49m\u001b[43mkwargs\u001b[49m\u001b[43m)\u001b[49m\n",
      "File \u001b[0;32m~/.local/lib/python3.10/site-packages/matplotlib/axes/_axes.py:1664\u001b[0m, in \u001b[0;36mAxes.plot\u001b[0;34m(self, scalex, scaley, data, *args, **kwargs)\u001b[0m\n\u001b[1;32m   1662\u001b[0m lines \u001b[38;5;241m=\u001b[39m [\u001b[38;5;241m*\u001b[39m\u001b[38;5;28mself\u001b[39m\u001b[38;5;241m.\u001b[39m_get_lines(\u001b[38;5;241m*\u001b[39margs, data\u001b[38;5;241m=\u001b[39mdata, \u001b[38;5;241m*\u001b[39m\u001b[38;5;241m*\u001b[39mkwargs)]\n\u001b[1;32m   1663\u001b[0m \u001b[38;5;28;01mfor\u001b[39;00m line \u001b[38;5;129;01min\u001b[39;00m lines:\n\u001b[0;32m-> 1664\u001b[0m     \u001b[38;5;28;43mself\u001b[39;49m\u001b[38;5;241;43m.\u001b[39;49m\u001b[43madd_line\u001b[49m\u001b[43m(\u001b[49m\u001b[43mline\u001b[49m\u001b[43m)\u001b[49m\n\u001b[1;32m   1665\u001b[0m \u001b[38;5;28;01mif\u001b[39;00m scalex:\n\u001b[1;32m   1666\u001b[0m     \u001b[38;5;28mself\u001b[39m\u001b[38;5;241m.\u001b[39m_request_autoscale_view(\u001b[38;5;124m\"\u001b[39m\u001b[38;5;124mx\u001b[39m\u001b[38;5;124m\"\u001b[39m)\n",
      "File \u001b[0;32m~/.local/lib/python3.10/site-packages/matplotlib/axes/_base.py:2340\u001b[0m, in \u001b[0;36m_AxesBase.add_line\u001b[0;34m(self, line)\u001b[0m\n\u001b[1;32m   2337\u001b[0m \u001b[38;5;28;01mif\u001b[39;00m line\u001b[38;5;241m.\u001b[39mget_clip_path() \u001b[38;5;129;01mis\u001b[39;00m \u001b[38;5;28;01mNone\u001b[39;00m:\n\u001b[1;32m   2338\u001b[0m     line\u001b[38;5;241m.\u001b[39mset_clip_path(\u001b[38;5;28mself\u001b[39m\u001b[38;5;241m.\u001b[39mpatch)\n\u001b[0;32m-> 2340\u001b[0m \u001b[38;5;28;43mself\u001b[39;49m\u001b[38;5;241;43m.\u001b[39;49m\u001b[43m_update_line_limits\u001b[49m\u001b[43m(\u001b[49m\u001b[43mline\u001b[49m\u001b[43m)\u001b[49m\n\u001b[1;32m   2341\u001b[0m \u001b[38;5;28;01mif\u001b[39;00m \u001b[38;5;129;01mnot\u001b[39;00m line\u001b[38;5;241m.\u001b[39mget_label():\n\u001b[1;32m   2342\u001b[0m     line\u001b[38;5;241m.\u001b[39mset_label(\u001b[38;5;124mf\u001b[39m\u001b[38;5;124m'\u001b[39m\u001b[38;5;124m_child\u001b[39m\u001b[38;5;132;01m{\u001b[39;00m\u001b[38;5;28mlen\u001b[39m(\u001b[38;5;28mself\u001b[39m\u001b[38;5;241m.\u001b[39m_children)\u001b[38;5;132;01m}\u001b[39;00m\u001b[38;5;124m'\u001b[39m)\n",
      "File \u001b[0;32m~/.local/lib/python3.10/site-packages/matplotlib/axes/_base.py:2363\u001b[0m, in \u001b[0;36m_AxesBase._update_line_limits\u001b[0;34m(self, line)\u001b[0m\n\u001b[1;32m   2359\u001b[0m \u001b[38;5;28;01mdef\u001b[39;00m \u001b[38;5;21m_update_line_limits\u001b[39m(\u001b[38;5;28mself\u001b[39m, line):\n\u001b[1;32m   2360\u001b[0m     \u001b[38;5;124;03m\"\"\"\u001b[39;00m\n\u001b[1;32m   2361\u001b[0m \u001b[38;5;124;03m    Figures out the data limit of the given line, updating self.dataLim.\u001b[39;00m\n\u001b[1;32m   2362\u001b[0m \u001b[38;5;124;03m    \"\"\"\u001b[39;00m\n\u001b[0;32m-> 2363\u001b[0m     path \u001b[38;5;241m=\u001b[39m \u001b[43mline\u001b[49m\u001b[38;5;241;43m.\u001b[39;49m\u001b[43mget_path\u001b[49m\u001b[43m(\u001b[49m\u001b[43m)\u001b[49m\n\u001b[1;32m   2364\u001b[0m     \u001b[38;5;28;01mif\u001b[39;00m path\u001b[38;5;241m.\u001b[39mvertices\u001b[38;5;241m.\u001b[39msize \u001b[38;5;241m==\u001b[39m \u001b[38;5;241m0\u001b[39m:\n\u001b[1;32m   2365\u001b[0m         \u001b[38;5;28;01mreturn\u001b[39;00m\n",
      "File \u001b[0;32m~/.local/lib/python3.10/site-packages/matplotlib/lines.py:1031\u001b[0m, in \u001b[0;36mLine2D.get_path\u001b[0;34m(self)\u001b[0m\n\u001b[1;32m   1029\u001b[0m \u001b[38;5;124;03m\"\"\"Return the `~matplotlib.path.Path` associated with this line.\"\"\"\u001b[39;00m\n\u001b[1;32m   1030\u001b[0m \u001b[38;5;28;01mif\u001b[39;00m \u001b[38;5;28mself\u001b[39m\u001b[38;5;241m.\u001b[39m_invalidy \u001b[38;5;129;01mor\u001b[39;00m \u001b[38;5;28mself\u001b[39m\u001b[38;5;241m.\u001b[39m_invalidx:\n\u001b[0;32m-> 1031\u001b[0m     \u001b[38;5;28;43mself\u001b[39;49m\u001b[38;5;241;43m.\u001b[39;49m\u001b[43mrecache\u001b[49m\u001b[43m(\u001b[49m\u001b[43m)\u001b[49m\n\u001b[1;32m   1032\u001b[0m \u001b[38;5;28;01mreturn\u001b[39;00m \u001b[38;5;28mself\u001b[39m\u001b[38;5;241m.\u001b[39m_path\n",
      "File \u001b[0;32m~/.local/lib/python3.10/site-packages/matplotlib/lines.py:664\u001b[0m, in \u001b[0;36mLine2D.recache\u001b[0;34m(self, always)\u001b[0m\n\u001b[1;32m    662\u001b[0m \u001b[38;5;28;01mif\u001b[39;00m always \u001b[38;5;129;01mor\u001b[39;00m \u001b[38;5;28mself\u001b[39m\u001b[38;5;241m.\u001b[39m_invalidy:\n\u001b[1;32m    663\u001b[0m     yconv \u001b[38;5;241m=\u001b[39m \u001b[38;5;28mself\u001b[39m\u001b[38;5;241m.\u001b[39mconvert_yunits(\u001b[38;5;28mself\u001b[39m\u001b[38;5;241m.\u001b[39m_yorig)\n\u001b[0;32m--> 664\u001b[0m     y \u001b[38;5;241m=\u001b[39m \u001b[43m_to_unmasked_float_array\u001b[49m\u001b[43m(\u001b[49m\u001b[43myconv\u001b[49m\u001b[43m)\u001b[49m\u001b[38;5;241m.\u001b[39mravel()\n\u001b[1;32m    665\u001b[0m \u001b[38;5;28;01melse\u001b[39;00m:\n\u001b[1;32m    666\u001b[0m     y \u001b[38;5;241m=\u001b[39m \u001b[38;5;28mself\u001b[39m\u001b[38;5;241m.\u001b[39m_y\n",
      "File \u001b[0;32m~/.local/lib/python3.10/site-packages/matplotlib/cbook/__init__.py:1369\u001b[0m, in \u001b[0;36m_to_unmasked_float_array\u001b[0;34m(x)\u001b[0m\n\u001b[1;32m   1367\u001b[0m     \u001b[38;5;28;01mreturn\u001b[39;00m np\u001b[38;5;241m.\u001b[39mma\u001b[38;5;241m.\u001b[39masarray(x, \u001b[38;5;28mfloat\u001b[39m)\u001b[38;5;241m.\u001b[39mfilled(np\u001b[38;5;241m.\u001b[39mnan)\n\u001b[1;32m   1368\u001b[0m \u001b[38;5;28;01melse\u001b[39;00m:\n\u001b[0;32m-> 1369\u001b[0m     \u001b[38;5;28;01mreturn\u001b[39;00m \u001b[43mnp\u001b[49m\u001b[38;5;241;43m.\u001b[39;49m\u001b[43masarray\u001b[49m\u001b[43m(\u001b[49m\u001b[43mx\u001b[49m\u001b[43m,\u001b[49m\u001b[43m \u001b[49m\u001b[38;5;28;43mfloat\u001b[39;49m\u001b[43m)\u001b[49m\n",
      "\u001b[0;31mTypeError\u001b[0m: float() argument must be a string or a real number, not 'method'"
     ]
    },
    {
     "data": {
      "image/png": "[encoded data removed]",
      "text/plain": [
       "<Figure size 640x480 with 1 Axes>"
      ]
     },
     "metadata": {},
     "output_type": "display_data"
    }
   ],
   "source": [
    "plt.plot(range(len(history_f_global)), history_f_global)\n",
    "plt.title(\"Output Global Ojective\")\n",
    "plt.show()\n",
    "\n",
    "\n",
    "plt.title(\"Parameter updates\")\n",
    "plt.plot(range(len(history_agent1_x1)), np.squeeze(history_agent1_x1) )\n",
    "plt.plot(range(len(history_agent1_x2)), np.squeeze(c) )"
   ]
  },
  {
   "cell_type": "code",
   "execution_count": 76,
   "metadata": {},
   "outputs": [
    {
     "ename": "TypeError",
     "evalue": "Network.__init__() missing 3 required positional arguments: 'n_agents', 'x', and 'z'",
     "output_type": "error",
     "traceback": [
      "\u001b[0;31m---------------------------------------------------------------------------\u001b[0m",
      "\u001b[0;31mTypeError\u001b[0m                                 Traceback (most recent call last)",
      "Cell \u001b[0;32mIn [76], line 5\u001b[0m\n\u001b[1;32m      1\u001b[0m optimal_state \u001b[38;5;241m=\u001b[39m np\u001b[38;5;241m.\u001b[39marray([[\u001b[38;5;241m-\u001b[39m\u001b[38;5;241m2.3333\u001b[39m],\n\u001b[1;32m      2\u001b[0m                           [\u001b[38;5;241m-\u001b[39m\u001b[38;5;241m4.3333\u001b[39m]])\n\u001b[0;32m----> 5\u001b[0m network_optimal \u001b[38;5;241m=\u001b[39m \u001b[43mNetwork\u001b[49m\u001b[43m(\u001b[49m\u001b[43m)\u001b[49m\n\u001b[1;32m      6\u001b[0m network_optimal\u001b[38;5;241m.\u001b[39mstate \u001b[38;5;241m=\u001b[39m optimal_state\n\u001b[1;32m      8\u001b[0m \u001b[38;5;28mprint\u001b[39m(network_optimal\u001b[38;5;241m.\u001b[39mstate)\n",
      "\u001b[0;31mTypeError\u001b[0m: Network.__init__() missing 3 required positional arguments: 'n_agents', 'x', and 'z'"
     ]
    }
   ],
   "source": [
    "optimal_state = np.array([[-2.3333],\n",
    "                          [-4.3333]])\n",
    "\n",
    "\n",
    "network_optimal = Network()\n",
    "network_optimal.state = optimal_state\n",
    "\n",
    "print(network_optimal.state)\n",
    "\n",
    "for i in range(N_AGENTS):\n",
    "  network_optimal.fs_private.append(lambda x: np.squeeze(x.T @ P[i] @ x + b[i].T @ x + c[i]))\n",
    "\n",
    "print(\"output for Optimal state\", network_optimal.f_global())\n"
   ]
  },
  {
   "cell_type": "markdown",
   "metadata": {},
   "source": [
    "### (ignore for now) Check if the function works for the alleged optimal state (-2.3333, -4.3333) by **computing the gradient** of the global function at that point. It **should be 0**."
   ]
  },
  {
   "cell_type": "code",
   "execution_count": 94,
   "metadata": {},
   "outputs": [
    {
     "name": "stdout",
     "output_type": "stream",
     "text": [
      "[[ 7.200158 ]\n",
      " [-4.7999196]]\n"
     ]
    }
   ],
   "source": [
    "import jax\n",
    "import jax.numpy as jnp\n",
    "\n",
    "def aux_f_global(state, fs_private= network_optimal.fs_private):    # global objective function\n",
    "\n",
    "    private_errors = [ f(state) for f in fs_private ]\n",
    "\n",
    "    global_error = sum(private_errors)\n",
    "\n",
    "    return global_error\n",
    "    \n",
    "\n",
    "\n",
    "derivative = jax.grad(aux_f_global)\n",
    "\n",
    "print(derivative(optimal_state))"
   ]
  },
  {
   "cell_type": "code",
   "execution_count": 28,
   "metadata": {},
   "outputs": [
    {
     "name": "stdout",
     "output_type": "stream",
     "text": [
      "[[-2.3333]\n",
      " [-4.3333]]\n"
     ]
    }
   ],
   "source": [
    "print(network_optimal.state)"
   ]
  },
  {
   "cell_type": "markdown",
   "metadata": {},
   "source": [
    "# PROBLEM: private functions break at $b_ix$  -> fixed it with $b_i^Tx$ => check with optimal solution if you get 0 for the **first dervative** of the global objective. if yes, move forward"
   ]
  },
  {
   "cell_type": "markdown",
   "metadata": {},
   "source": [
    "## $b_i^Tx$ didn't fix it for the optimal case, try np.dot(b_i, x)"
   ]
  },
  {
   "cell_type": "markdown",
   "metadata": {},
   "source": [
    "# Jump over, go with algorithm implementation. If that doesn't converge at the optimal points, get back here"
   ]
  }
 ],
 "metadata": {
  "kernelspec": {
   "display_name": "Python 3",
   "language": "python",
   "name": "python3"
  },
  "language_info": {
   "codemirror_mode": {
    "name": "ipython",
    "version": 3
   },
   "file_extension": ".py",
   "mimetype": "text/x-python",
   "name": "python",
   "nbconvert_exporter": "python",
   "pygments_lexer": "ipython3",
   "version": "3.10.12"
  }
 },
 "nbformat": 4,
 "nbformat_minor": 2
}
