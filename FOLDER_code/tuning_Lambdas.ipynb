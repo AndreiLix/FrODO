{
 "cells": [
  {
   "cell_type": "markdown",
   "metadata": {},
   "source": [
    "# Tune the fuck out of the fractional memory profiles\n",
    "\n",
    "- find the best lambda, beta_gm, len_memory\n",
    "\n",
    "- plot 3 heatmaps for \n",
    "    - all heatmaps have iterations as color intensity\n",
    "        - x-axis, y-axis parameters:\n",
    "            - lambda vs beta_gm\n",
    "            - lambda vs len_memory\n",
    "            - beta_gm vs len_memory    \n",
    "    - ill-conditioned Hessian: do it on the sum of initial conditions\n",
    "    - Rosenbrock: do it starting at (0,0)\n",
    "\n",
    "- take the best parameters you find\n",
    "\n",
    "\n",
    "\n",
    "\n",
    "- ill hessian: \n",
    "    - fixed parameters:\n",
    "        - max_iterations = `1000`\n",
    "        - beta_g = 0.2\n",
    "            - should converge in 1000 iterations\n",
    "        - beta_c = 0.1\n",
    "    - variable parameters:\n",
    "        - lambda = [0.01, 0.15, 0.3, 0.6, 0.9]\n",
    "        - beta_gm = [0, beta_g/100, beta_g/10, beta_g/5, beta_g/2, beta_g]\n",
    "        - len_memory = [1, 2, 5, 10, 100]\n",
    "- Rosenbrock: \n",
    "    - fixed parameters:\n",
    "        - max_iterations = `15_000`\n",
    "        - initial_condition = (0,0)\n",
    "        - beta_g = 0.001\n",
    "        - beta_c = 0.001\n",
    "    - variable parameters:\n",
    "        - lambda = [0.01, 0.15, 0.3, 0.6, 0.9]\n",
    "        - beta_gm = [0, beta_g/100, beta_g/10, beta_g/5, beta_g/2, beta_g]\n",
    "        - len_memory = [1, 2, 5, 10, 100]\n"
   ]
  },
  {
   "cell_type": "code",
   "execution_count": 1,
   "metadata": {},
   "outputs": [],
   "source": [
    "from comdo.utils import *\n",
    "import numpy as np\n",
    "import matplotlib.pyplot as plt"
   ]
  },
  {
   "cell_type": "code",
   "execution_count": 11,
   "metadata": {},
   "outputs": [
    {
     "name": "stdout",
     "output_type": "stream",
     "text": [
      "<class 'str'>\n"
     ]
    }
   ],
   "source": [
    "# Sample dictionary\n",
    "my_dict = {'name': 'John', 'age': 25, 'city': 'New York'}\n",
    "\n",
    "# Extract the key\n",
    "key_variable = next(iter(my_dict))\n",
    "\n",
    "# Display the result\n",
    "print(type(key_variable))"
   ]
  },
  {
   "cell_type": "markdown",
   "metadata": {},
   "source": [
    "## Ill-defined Hessian environment \n",
    "**1.5 min** / one run of both fractional profiles"
   ]
  },
  {
   "cell_type": "code",
   "execution_count": 20,
   "metadata": {},
   "outputs": [],
   "source": [
    "def get_summed_dict(dict):\n",
    "    \"\"\"Get the ill defined Hessian performance dict, but with the iterations across starting conditions summed up\"\"\"\n",
    "\n",
    "    list_performances = []\n",
    "    # list_performances.append( [ [ dict[i][key] for key in dict[i]][0]  for i in range(len(dict)) ] )\n",
    "    list_performances.append( [ [ dict[i][key] for key in dict[i]] for i in range(len(dict)) ] )\n",
    "    \n",
    "    key = next(iter(dict[0]))\n",
    "    print(\"list performances: \", list_performances[0][0])\n",
    "    return {key: sum(list_performances[0][0])}\n",
    "    \n"
   ]
  },
  {
   "cell_type": "code",
   "execution_count": 43,
   "metadata": {},
   "outputs": [
    {
     "name": "stdout",
     "output_type": "stream",
     "text": [
      "list performances:  [5, 689, 756, 775]\n",
      "list performances:  [5, 689, 756, 775]\n",
      "list performances:  [15, 609, 669, 686]\n",
      "list performances:  [13, 586, 644, 660]\n"
     ]
    }
   ],
   "source": [
    "dicts_Summed_preformances_fractional_v1 = []\n",
    "dicts_Summed_preformances_fractional_v2 = []\n",
    "\n",
    "dicts_Separated_preformances_fractional_v1 = []\n",
    "dicts_Separated_preformances_fractional_v2 = []\n",
    "\n",
    "\n",
    "max_iterations = 2000 \n",
    "\n",
    "betas_c = [0.1]\n",
    "betas_cm = [0]\n",
    "betas_g = [0.2]\n",
    "betas_gm = [0, betas_g[0]/100, betas_g[0]/10, betas_g[0]/5, betas_g[0]/2, betas_g[0]]\n",
    "lens_memory = [1, 2, 5, 10, 100]\n",
    "_lambdas = [0.01, 0.15, 0.3, 0.6, 0.9]\n",
    "\n",
    "\n",
    "# # Actual \n",
    "\n",
    "for beta_gm in betas_gm: \n",
    "    for len_memory in lens_memory:\n",
    "        for _lambda in _lambdas:\n",
    "        \n",
    "            preformance_fractional_v1 = optimize_IllDefinedHessian(max_iterations= max_iterations, memory_profiles= [\"fractional_v1\"], _lambdas= [_lambda], lens_memory= [len_memory], betas_c= betas_c, betas_cm= betas_cm, betas_g= betas_g, betas_gm= [beta_gm] )\n",
    "            dicts_Separated_preformances_fractional_v1.append(preformance_fractional_v1)\n",
    "            dicts_Summed_preformances_fractional_v1.append( get_summed_dict([preformance_fractional_v1]) ) \n",
    "\n",
    "            preformance_fractional_v2 = optimize_IllDefinedHessian(max_iterations= max_iterations, memory_profiles= [\"fractional_v2\"], _lambdas= [_lambda], lens_memory= [len_memory], betas_c= betas_c, betas_cm= betas_cm, betas_g= betas_g, betas_gm= [beta_gm] )\n",
    "            dicts_Separated_preformances_fractional_v2.append(preformance_fractional_v2)\n",
    "            dicts_Summed_preformances_fractional_v2.append( get_summed_dict([preformance_fractional_v2]) ) \n"
   ]
  },
  {
   "cell_type": "code",
   "execution_count": 44,
   "metadata": {},
   "outputs": [
    {
     "name": "stdout",
     "output_type": "stream",
     "text": [
      "[{((1.0, 0.0), 'fractional_v1', 0.15, 10, 0.1, 0, 0.2, 0): 2225}, {((1.0, 0.0), 'fractional_v1', 0.15, 10, 0.1, 0, 0.2, 0.1): 1979}]\n",
      "[{((1.0, 0.0), 'fractional_v2', 0.15, 10, 0.1, 0, 0.2, 0): 2225}, {((1.0, 0.0), 'fractional_v2', 0.15, 10, 0.1, 0, 0.2, 0.1): 1903}]\n"
     ]
    }
   ],
   "source": [
    "print(dicts_Summed_preformances_fractional_v1)\n",
    "print(dicts_Summed_preformances_fractional_v2)"
   ]
  },
  {
   "cell_type": "markdown",
   "metadata": {},
   "source": [
    "## Rosenbrock\n",
    "\n",
    "takes 1 min 15 sec / run (only 1 fractional profile)"
   ]
  },
  {
   "cell_type": "code",
   "execution_count": 11,
   "metadata": {},
   "outputs": [],
   "source": [
    "dicts_Rosen_preformances_fractional_v1 = []\n",
    "dicts_Rosen_preformances_fractional_v2 = []\n",
    "\n",
    "max_iterations = 15_000 \n",
    "initial_condition = (0., 0.)\n",
    "\n",
    "\n",
    "betas_c = [0.001]\n",
    "betas_cm = [0]\n",
    "betas_g = [0.001]\n",
    "betas_gm = [0, betas_g[0]/100, betas_g[0]/10, betas_g[0]/5, betas_g[0]/2, betas_g[0]]\n",
    "lens_memory = [1, 2, 5, 10, 100]\n",
    "_lambdas = [0.01, 0.15, 0.3, 0.6, 0.9]\n",
    "\n",
    "\n",
    "# # Actual \n",
    "\n",
    "# for beta_gm in betas_gm: \n",
    "#     for len_memory in lens_memory:\n",
    "#         for _lambda in _lambdas:\n",
    "        \n",
    "#             preformance_fractional_v1 = optimize_Rosenbrock(initial_condition= initial_condition, max_iterations= max_iterations, memory_profiles= [\"fractional_v1\"], _lambdas= [_lambda], lens_memory= [len_memory], betas_c= betas_c, betas_cm= betas_cm, betas_g= betas_g, betas_gm= [beta_gm] )\n",
    "#             dicts_Rosen_preformances_fractional_v1.append( get_summed_dict([preformance_fractional_v1]) ) \n",
    "\n",
    "#             preformance_fractional_v2 = optimize_Rosenbrock(initial_condition= initial_condition, max_iterations= max_iterations, memory_profiles= [\"fractional_v2\"], _lambdas= [_lambda], lens_memory= [len_memory], betas_c= betas_c, betas_cm= betas_cm, betas_g= betas_g, betas_gm= [beta_gm] )\n",
    "#             dicts_Rosen_preformances_fractional_v2.append( get_summed_dict([preformance_fractional_v2]) ) \n",
    "\n",
    "\n",
    "\n",
    "# # Tests \n",
    "\n",
    "for beta_gm in [ betas_gm[0], betas_gm[3] ]: \n",
    "    for len_memory in [lens_memory[0], lens_memory[2]]:\n",
    "        for _lambda in [_lambdas[1]]:\n",
    "        \n",
    "            # preformance_fractional_v1 = optimize_Rosenbrock(initial_condition= initial_condition, max_iterations= max_iterations, memory_profiles= [\"fractional_v1\"], _lambdas= [_lambda], lens_memory= [len_memory], betas_c= betas_c, betas_cm= betas_cm, betas_g= betas_g, betas_gm= [beta_gm] )\n",
    "            # dicts_Rosen_preformances_fractional_v1.append( preformance_fractional_v1[next(iter(preformance_fractional_v1))][0] ) \n",
    "            # key = next(iter(preformance_fractional_v1))\n",
    "            # dicts_Rosen_preformances_fractional_v1.append( {key : preformance_fractional_v1[key][0] } )\n",
    "\n",
    "            preformance_fractional_v2 = optimize_Rosenbrock(initial_condition= initial_condition, max_iterations= max_iterations, memory_profiles= [\"fractional_v2\"], _lambdas= [_lambda], lens_memory= [len_memory], betas_c= betas_c, betas_cm= betas_cm, betas_g= betas_g, betas_gm= [beta_gm] )\n",
    "            \n",
    "            key = next(iter(preformance_fractional_v2))\n",
    "            dicts_Rosen_preformances_fractional_v2.append( {key : preformance_fractional_v2[key][0] } )\n"
   ]
  },
  {
   "cell_type": "code",
   "execution_count": 12,
   "metadata": {},
   "outputs": [
    {
     "data": {
      "text/plain": [
       "[{((0.0, 0.0), 'fractional_v2', 0.15, 1, 0.001, 0, 0.001, 0): 14300},\n",
       " {((0.0, 0.0), 'fractional_v2', 0.15, 5, 0.001, 0, 0.001, 0): 14300},\n",
       " {((0.0, 0.0), 'fractional_v2', 0.15, 1, 0.001, 0, 0.001, 0.0002): 11915},\n",
       " {((0.0, 0.0), 'fractional_v2', 0.15, 5, 0.001, 0, 0.001, 0.0002): 12993}]"
      ]
     },
     "execution_count": 12,
     "metadata": {},
     "output_type": "execute_result"
    }
   ],
   "source": [
    "dicts_Rosen_preformances_fractional_v2"
   ]
  }
 ],
 "metadata": {
  "kernelspec": {
   "display_name": "Python 3",
   "language": "python",
   "name": "python3"
  },
  "language_info": {
   "codemirror_mode": {
    "name": "ipython",
    "version": 3
   },
   "file_extension": ".py",
   "mimetype": "text/x-python",
   "name": "python",
   "nbconvert_exporter": "python",
   "pygments_lexer": "ipython3",
   "version": "3.10.12"
  }
 },
 "nbformat": 4,
 "nbformat_minor": 2
}
